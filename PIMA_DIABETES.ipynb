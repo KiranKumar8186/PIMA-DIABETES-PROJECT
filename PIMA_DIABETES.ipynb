{
 "cells": [
  {
   "cell_type": "code",
   "execution_count": 222,
   "id": "28f05e5c",
   "metadata": {},
   "outputs": [],
   "source": [
    "# IMPORTING REQUIRED LIBRARIES\n",
    "\n",
    "import pandas as pd \n",
    "import numpy as np\n",
    "import seaborn as sns\n",
    "import matplotlib.pyplot as plt\n",
    "import warnings\n",
    "warnings.filterwarnings(\"ignore\")"
   ]
  },
  {
   "cell_type": "code",
   "execution_count": 86,
   "id": "c01946dc",
   "metadata": {},
   "outputs": [
    {
     "data": {
      "text/html": [
       "<div>\n",
       "<style scoped>\n",
       "    .dataframe tbody tr th:only-of-type {\n",
       "        vertical-align: middle;\n",
       "    }\n",
       "\n",
       "    .dataframe tbody tr th {\n",
       "        vertical-align: top;\n",
       "    }\n",
       "\n",
       "    .dataframe thead th {\n",
       "        text-align: right;\n",
       "    }\n",
       "</style>\n",
       "<table border=\"1\" class=\"dataframe\">\n",
       "  <thead>\n",
       "    <tr style=\"text-align: right;\">\n",
       "      <th></th>\n",
       "      <th>Pregnancies</th>\n",
       "      <th>Glucose</th>\n",
       "      <th>BloodPressure</th>\n",
       "      <th>SkinThickness</th>\n",
       "      <th>Insulin</th>\n",
       "      <th>BMI</th>\n",
       "      <th>DiabetesPedigreeFunction</th>\n",
       "      <th>Age</th>\n",
       "      <th>Outcome</th>\n",
       "    </tr>\n",
       "  </thead>\n",
       "  <tbody>\n",
       "    <tr>\n",
       "      <th>0</th>\n",
       "      <td>6</td>\n",
       "      <td>148</td>\n",
       "      <td>72</td>\n",
       "      <td>35</td>\n",
       "      <td>0</td>\n",
       "      <td>33.6</td>\n",
       "      <td>0.627</td>\n",
       "      <td>50</td>\n",
       "      <td>1</td>\n",
       "    </tr>\n",
       "    <tr>\n",
       "      <th>1</th>\n",
       "      <td>1</td>\n",
       "      <td>85</td>\n",
       "      <td>66</td>\n",
       "      <td>29</td>\n",
       "      <td>0</td>\n",
       "      <td>26.6</td>\n",
       "      <td>0.351</td>\n",
       "      <td>31</td>\n",
       "      <td>0</td>\n",
       "    </tr>\n",
       "    <tr>\n",
       "      <th>2</th>\n",
       "      <td>8</td>\n",
       "      <td>183</td>\n",
       "      <td>64</td>\n",
       "      <td>0</td>\n",
       "      <td>0</td>\n",
       "      <td>23.3</td>\n",
       "      <td>0.672</td>\n",
       "      <td>32</td>\n",
       "      <td>1</td>\n",
       "    </tr>\n",
       "    <tr>\n",
       "      <th>3</th>\n",
       "      <td>1</td>\n",
       "      <td>89</td>\n",
       "      <td>66</td>\n",
       "      <td>23</td>\n",
       "      <td>94</td>\n",
       "      <td>28.1</td>\n",
       "      <td>0.167</td>\n",
       "      <td>21</td>\n",
       "      <td>0</td>\n",
       "    </tr>\n",
       "    <tr>\n",
       "      <th>4</th>\n",
       "      <td>0</td>\n",
       "      <td>137</td>\n",
       "      <td>40</td>\n",
       "      <td>35</td>\n",
       "      <td>168</td>\n",
       "      <td>43.1</td>\n",
       "      <td>2.288</td>\n",
       "      <td>33</td>\n",
       "      <td>1</td>\n",
       "    </tr>\n",
       "    <tr>\n",
       "      <th>...</th>\n",
       "      <td>...</td>\n",
       "      <td>...</td>\n",
       "      <td>...</td>\n",
       "      <td>...</td>\n",
       "      <td>...</td>\n",
       "      <td>...</td>\n",
       "      <td>...</td>\n",
       "      <td>...</td>\n",
       "      <td>...</td>\n",
       "    </tr>\n",
       "    <tr>\n",
       "      <th>763</th>\n",
       "      <td>10</td>\n",
       "      <td>101</td>\n",
       "      <td>76</td>\n",
       "      <td>48</td>\n",
       "      <td>180</td>\n",
       "      <td>32.9</td>\n",
       "      <td>0.171</td>\n",
       "      <td>63</td>\n",
       "      <td>0</td>\n",
       "    </tr>\n",
       "    <tr>\n",
       "      <th>764</th>\n",
       "      <td>2</td>\n",
       "      <td>122</td>\n",
       "      <td>70</td>\n",
       "      <td>27</td>\n",
       "      <td>0</td>\n",
       "      <td>36.8</td>\n",
       "      <td>0.340</td>\n",
       "      <td>27</td>\n",
       "      <td>0</td>\n",
       "    </tr>\n",
       "    <tr>\n",
       "      <th>765</th>\n",
       "      <td>5</td>\n",
       "      <td>121</td>\n",
       "      <td>72</td>\n",
       "      <td>23</td>\n",
       "      <td>112</td>\n",
       "      <td>26.2</td>\n",
       "      <td>0.245</td>\n",
       "      <td>30</td>\n",
       "      <td>0</td>\n",
       "    </tr>\n",
       "    <tr>\n",
       "      <th>766</th>\n",
       "      <td>1</td>\n",
       "      <td>126</td>\n",
       "      <td>60</td>\n",
       "      <td>0</td>\n",
       "      <td>0</td>\n",
       "      <td>30.1</td>\n",
       "      <td>0.349</td>\n",
       "      <td>47</td>\n",
       "      <td>1</td>\n",
       "    </tr>\n",
       "    <tr>\n",
       "      <th>767</th>\n",
       "      <td>1</td>\n",
       "      <td>93</td>\n",
       "      <td>70</td>\n",
       "      <td>31</td>\n",
       "      <td>0</td>\n",
       "      <td>30.4</td>\n",
       "      <td>0.315</td>\n",
       "      <td>23</td>\n",
       "      <td>0</td>\n",
       "    </tr>\n",
       "  </tbody>\n",
       "</table>\n",
       "<p>768 rows × 9 columns</p>\n",
       "</div>"
      ],
      "text/plain": [
       "     Pregnancies  Glucose  BloodPressure  SkinThickness  Insulin   BMI  \\\n",
       "0              6      148             72             35        0  33.6   \n",
       "1              1       85             66             29        0  26.6   \n",
       "2              8      183             64              0        0  23.3   \n",
       "3              1       89             66             23       94  28.1   \n",
       "4              0      137             40             35      168  43.1   \n",
       "..           ...      ...            ...            ...      ...   ...   \n",
       "763           10      101             76             48      180  32.9   \n",
       "764            2      122             70             27        0  36.8   \n",
       "765            5      121             72             23      112  26.2   \n",
       "766            1      126             60              0        0  30.1   \n",
       "767            1       93             70             31        0  30.4   \n",
       "\n",
       "     DiabetesPedigreeFunction  Age  Outcome  \n",
       "0                       0.627   50        1  \n",
       "1                       0.351   31        0  \n",
       "2                       0.672   32        1  \n",
       "3                       0.167   21        0  \n",
       "4                       2.288   33        1  \n",
       "..                        ...  ...      ...  \n",
       "763                     0.171   63        0  \n",
       "764                     0.340   27        0  \n",
       "765                     0.245   30        0  \n",
       "766                     0.349   47        1  \n",
       "767                     0.315   23        0  \n",
       "\n",
       "[768 rows x 9 columns]"
      ]
     },
     "execution_count": 86,
     "metadata": {},
     "output_type": "execute_result"
    }
   ],
   "source": [
    "# READING THE \"DIABETES\" FILE \n",
    "df = pd.read_csv(\"diabetes.csv\")\n",
    "df"
   ]
  },
  {
   "cell_type": "markdown",
   "id": "8a056f80",
   "metadata": {},
   "source": [
    "## 1. Please do the basic exploration of data and explain missing values, number of rows and columns and data types in statistical term."
   ]
  },
  {
   "cell_type": "code",
   "execution_count": 87,
   "id": "752e7d0c",
   "metadata": {},
   "outputs": [
    {
     "name": "stdout",
     "output_type": "stream",
     "text": [
      "<class 'pandas.core.frame.DataFrame'>\n",
      "RangeIndex: 768 entries, 0 to 767\n",
      "Data columns (total 9 columns):\n",
      " #   Column                    Non-Null Count  Dtype  \n",
      "---  ------                    --------------  -----  \n",
      " 0   Pregnancies               768 non-null    int64  \n",
      " 1   Glucose                   768 non-null    int64  \n",
      " 2   BloodPressure             768 non-null    int64  \n",
      " 3   SkinThickness             768 non-null    int64  \n",
      " 4   Insulin                   768 non-null    int64  \n",
      " 5   BMI                       768 non-null    float64\n",
      " 6   DiabetesPedigreeFunction  768 non-null    float64\n",
      " 7   Age                       768 non-null    int64  \n",
      " 8   Outcome                   768 non-null    int64  \n",
      "dtypes: float64(2), int64(7)\n",
      "memory usage: 54.1 KB\n"
     ]
    }
   ],
   "source": [
    "# GETTING THE COMPLETE INFORMATION OF THE DIABETES DATA\n",
    "df.info()"
   ]
  },
  {
   "cell_type": "code",
   "execution_count": 88,
   "id": "6ae0bb13",
   "metadata": {},
   "outputs": [
    {
     "data": {
      "text/plain": [
       "(768, 9)"
      ]
     },
     "execution_count": 88,
     "metadata": {},
     "output_type": "execute_result"
    }
   ],
   "source": [
    "# GETTING THE SHAPE OF THE DATASET\n",
    "df.shape"
   ]
  },
  {
   "cell_type": "code",
   "execution_count": 89,
   "id": "8af21621",
   "metadata": {},
   "outputs": [
    {
     "data": {
      "text/plain": [
       "6912"
      ]
     },
     "execution_count": 89,
     "metadata": {},
     "output_type": "execute_result"
    }
   ],
   "source": [
    "# GETTING THE SIZE OF THE DATASET\n",
    "df.size"
   ]
  },
  {
   "cell_type": "code",
   "execution_count": 90,
   "id": "45400507",
   "metadata": {},
   "outputs": [
    {
     "data": {
      "text/html": [
       "<div>\n",
       "<style scoped>\n",
       "    .dataframe tbody tr th:only-of-type {\n",
       "        vertical-align: middle;\n",
       "    }\n",
       "\n",
       "    .dataframe tbody tr th {\n",
       "        vertical-align: top;\n",
       "    }\n",
       "\n",
       "    .dataframe thead th {\n",
       "        text-align: right;\n",
       "    }\n",
       "</style>\n",
       "<table border=\"1\" class=\"dataframe\">\n",
       "  <thead>\n",
       "    <tr style=\"text-align: right;\">\n",
       "      <th></th>\n",
       "      <th>Pregnancies</th>\n",
       "      <th>Glucose</th>\n",
       "      <th>BloodPressure</th>\n",
       "      <th>SkinThickness</th>\n",
       "      <th>Insulin</th>\n",
       "      <th>BMI</th>\n",
       "      <th>DiabetesPedigreeFunction</th>\n",
       "      <th>Age</th>\n",
       "      <th>Outcome</th>\n",
       "    </tr>\n",
       "  </thead>\n",
       "  <tbody>\n",
       "    <tr>\n",
       "      <th>0</th>\n",
       "      <td>6</td>\n",
       "      <td>148</td>\n",
       "      <td>72</td>\n",
       "      <td>35</td>\n",
       "      <td>0</td>\n",
       "      <td>33.6</td>\n",
       "      <td>0.627</td>\n",
       "      <td>50</td>\n",
       "      <td>1</td>\n",
       "    </tr>\n",
       "    <tr>\n",
       "      <th>1</th>\n",
       "      <td>1</td>\n",
       "      <td>85</td>\n",
       "      <td>66</td>\n",
       "      <td>29</td>\n",
       "      <td>0</td>\n",
       "      <td>26.6</td>\n",
       "      <td>0.351</td>\n",
       "      <td>31</td>\n",
       "      <td>0</td>\n",
       "    </tr>\n",
       "    <tr>\n",
       "      <th>2</th>\n",
       "      <td>8</td>\n",
       "      <td>183</td>\n",
       "      <td>64</td>\n",
       "      <td>0</td>\n",
       "      <td>0</td>\n",
       "      <td>23.3</td>\n",
       "      <td>0.672</td>\n",
       "      <td>32</td>\n",
       "      <td>1</td>\n",
       "    </tr>\n",
       "    <tr>\n",
       "      <th>3</th>\n",
       "      <td>1</td>\n",
       "      <td>89</td>\n",
       "      <td>66</td>\n",
       "      <td>23</td>\n",
       "      <td>94</td>\n",
       "      <td>28.1</td>\n",
       "      <td>0.167</td>\n",
       "      <td>21</td>\n",
       "      <td>0</td>\n",
       "    </tr>\n",
       "    <tr>\n",
       "      <th>4</th>\n",
       "      <td>0</td>\n",
       "      <td>137</td>\n",
       "      <td>40</td>\n",
       "      <td>35</td>\n",
       "      <td>168</td>\n",
       "      <td>43.1</td>\n",
       "      <td>2.288</td>\n",
       "      <td>33</td>\n",
       "      <td>1</td>\n",
       "    </tr>\n",
       "  </tbody>\n",
       "</table>\n",
       "</div>"
      ],
      "text/plain": [
       "   Pregnancies  Glucose  BloodPressure  SkinThickness  Insulin   BMI  \\\n",
       "0            6      148             72             35        0  33.6   \n",
       "1            1       85             66             29        0  26.6   \n",
       "2            8      183             64              0        0  23.3   \n",
       "3            1       89             66             23       94  28.1   \n",
       "4            0      137             40             35      168  43.1   \n",
       "\n",
       "   DiabetesPedigreeFunction  Age  Outcome  \n",
       "0                     0.627   50        1  \n",
       "1                     0.351   31        0  \n",
       "2                     0.672   32        1  \n",
       "3                     0.167   21        0  \n",
       "4                     2.288   33        1  "
      ]
     },
     "execution_count": 90,
     "metadata": {},
     "output_type": "execute_result"
    }
   ],
   "source": [
    "# PRINTING THE FIRST 5 ROWS USING head() FUNCTION\n",
    "df.head()"
   ]
  },
  {
   "cell_type": "code",
   "execution_count": 91,
   "id": "5f3354ea",
   "metadata": {},
   "outputs": [
    {
     "data": {
      "text/html": [
       "<div>\n",
       "<style scoped>\n",
       "    .dataframe tbody tr th:only-of-type {\n",
       "        vertical-align: middle;\n",
       "    }\n",
       "\n",
       "    .dataframe tbody tr th {\n",
       "        vertical-align: top;\n",
       "    }\n",
       "\n",
       "    .dataframe thead th {\n",
       "        text-align: right;\n",
       "    }\n",
       "</style>\n",
       "<table border=\"1\" class=\"dataframe\">\n",
       "  <thead>\n",
       "    <tr style=\"text-align: right;\">\n",
       "      <th></th>\n",
       "      <th>Pregnancies</th>\n",
       "      <th>Glucose</th>\n",
       "      <th>BloodPressure</th>\n",
       "      <th>SkinThickness</th>\n",
       "      <th>Insulin</th>\n",
       "      <th>BMI</th>\n",
       "      <th>DiabetesPedigreeFunction</th>\n",
       "      <th>Age</th>\n",
       "      <th>Outcome</th>\n",
       "    </tr>\n",
       "  </thead>\n",
       "  <tbody>\n",
       "    <tr>\n",
       "      <th>763</th>\n",
       "      <td>10</td>\n",
       "      <td>101</td>\n",
       "      <td>76</td>\n",
       "      <td>48</td>\n",
       "      <td>180</td>\n",
       "      <td>32.9</td>\n",
       "      <td>0.171</td>\n",
       "      <td>63</td>\n",
       "      <td>0</td>\n",
       "    </tr>\n",
       "    <tr>\n",
       "      <th>764</th>\n",
       "      <td>2</td>\n",
       "      <td>122</td>\n",
       "      <td>70</td>\n",
       "      <td>27</td>\n",
       "      <td>0</td>\n",
       "      <td>36.8</td>\n",
       "      <td>0.340</td>\n",
       "      <td>27</td>\n",
       "      <td>0</td>\n",
       "    </tr>\n",
       "    <tr>\n",
       "      <th>765</th>\n",
       "      <td>5</td>\n",
       "      <td>121</td>\n",
       "      <td>72</td>\n",
       "      <td>23</td>\n",
       "      <td>112</td>\n",
       "      <td>26.2</td>\n",
       "      <td>0.245</td>\n",
       "      <td>30</td>\n",
       "      <td>0</td>\n",
       "    </tr>\n",
       "    <tr>\n",
       "      <th>766</th>\n",
       "      <td>1</td>\n",
       "      <td>126</td>\n",
       "      <td>60</td>\n",
       "      <td>0</td>\n",
       "      <td>0</td>\n",
       "      <td>30.1</td>\n",
       "      <td>0.349</td>\n",
       "      <td>47</td>\n",
       "      <td>1</td>\n",
       "    </tr>\n",
       "    <tr>\n",
       "      <th>767</th>\n",
       "      <td>1</td>\n",
       "      <td>93</td>\n",
       "      <td>70</td>\n",
       "      <td>31</td>\n",
       "      <td>0</td>\n",
       "      <td>30.4</td>\n",
       "      <td>0.315</td>\n",
       "      <td>23</td>\n",
       "      <td>0</td>\n",
       "    </tr>\n",
       "  </tbody>\n",
       "</table>\n",
       "</div>"
      ],
      "text/plain": [
       "     Pregnancies  Glucose  BloodPressure  SkinThickness  Insulin   BMI  \\\n",
       "763           10      101             76             48      180  32.9   \n",
       "764            2      122             70             27        0  36.8   \n",
       "765            5      121             72             23      112  26.2   \n",
       "766            1      126             60              0        0  30.1   \n",
       "767            1       93             70             31        0  30.4   \n",
       "\n",
       "     DiabetesPedigreeFunction  Age  Outcome  \n",
       "763                     0.171   63        0  \n",
       "764                     0.340   27        0  \n",
       "765                     0.245   30        0  \n",
       "766                     0.349   47        1  \n",
       "767                     0.315   23        0  "
      ]
     },
     "execution_count": 91,
     "metadata": {},
     "output_type": "execute_result"
    }
   ],
   "source": [
    "# PRINTING LAST 5 ROWS USING tail() FUNCTION\n",
    "df.tail()"
   ]
  },
  {
   "cell_type": "code",
   "execution_count": 93,
   "id": "0f2ba5b4",
   "metadata": {},
   "outputs": [
    {
     "data": {
      "text/plain": [
       "False"
      ]
     },
     "execution_count": 93,
     "metadata": {},
     "output_type": "execute_result"
    }
   ],
   "source": [
    "# TO CHECK IF THE DATA CONTAINS NULL VALUES\n",
    "df.isnull().values.any()"
   ]
  },
  {
   "cell_type": "code",
   "execution_count": 94,
   "id": "c23e5fb1",
   "metadata": {},
   "outputs": [
    {
     "data": {
      "text/html": [
       "<div>\n",
       "<style scoped>\n",
       "    .dataframe tbody tr th:only-of-type {\n",
       "        vertical-align: middle;\n",
       "    }\n",
       "\n",
       "    .dataframe tbody tr th {\n",
       "        vertical-align: top;\n",
       "    }\n",
       "\n",
       "    .dataframe thead th {\n",
       "        text-align: right;\n",
       "    }\n",
       "</style>\n",
       "<table border=\"1\" class=\"dataframe\">\n",
       "  <thead>\n",
       "    <tr style=\"text-align: right;\">\n",
       "      <th></th>\n",
       "      <th>Pregnancies</th>\n",
       "      <th>Glucose</th>\n",
       "      <th>BloodPressure</th>\n",
       "      <th>SkinThickness</th>\n",
       "      <th>Insulin</th>\n",
       "      <th>BMI</th>\n",
       "      <th>DiabetesPedigreeFunction</th>\n",
       "      <th>Age</th>\n",
       "      <th>Outcome</th>\n",
       "    </tr>\n",
       "  </thead>\n",
       "  <tbody>\n",
       "    <tr>\n",
       "      <th>count</th>\n",
       "      <td>768.000000</td>\n",
       "      <td>768.000000</td>\n",
       "      <td>768.000000</td>\n",
       "      <td>768.000000</td>\n",
       "      <td>768.000000</td>\n",
       "      <td>768.000000</td>\n",
       "      <td>768.000000</td>\n",
       "      <td>768.000000</td>\n",
       "      <td>768.000000</td>\n",
       "    </tr>\n",
       "    <tr>\n",
       "      <th>mean</th>\n",
       "      <td>3.845052</td>\n",
       "      <td>120.894531</td>\n",
       "      <td>69.105469</td>\n",
       "      <td>20.536458</td>\n",
       "      <td>79.799479</td>\n",
       "      <td>31.992578</td>\n",
       "      <td>0.471876</td>\n",
       "      <td>33.240885</td>\n",
       "      <td>0.348958</td>\n",
       "    </tr>\n",
       "    <tr>\n",
       "      <th>std</th>\n",
       "      <td>3.369578</td>\n",
       "      <td>31.972618</td>\n",
       "      <td>19.355807</td>\n",
       "      <td>15.952218</td>\n",
       "      <td>115.244002</td>\n",
       "      <td>7.884160</td>\n",
       "      <td>0.331329</td>\n",
       "      <td>11.760232</td>\n",
       "      <td>0.476951</td>\n",
       "    </tr>\n",
       "    <tr>\n",
       "      <th>min</th>\n",
       "      <td>0.000000</td>\n",
       "      <td>0.000000</td>\n",
       "      <td>0.000000</td>\n",
       "      <td>0.000000</td>\n",
       "      <td>0.000000</td>\n",
       "      <td>0.000000</td>\n",
       "      <td>0.078000</td>\n",
       "      <td>21.000000</td>\n",
       "      <td>0.000000</td>\n",
       "    </tr>\n",
       "    <tr>\n",
       "      <th>25%</th>\n",
       "      <td>1.000000</td>\n",
       "      <td>99.000000</td>\n",
       "      <td>62.000000</td>\n",
       "      <td>0.000000</td>\n",
       "      <td>0.000000</td>\n",
       "      <td>27.300000</td>\n",
       "      <td>0.243750</td>\n",
       "      <td>24.000000</td>\n",
       "      <td>0.000000</td>\n",
       "    </tr>\n",
       "    <tr>\n",
       "      <th>50%</th>\n",
       "      <td>3.000000</td>\n",
       "      <td>117.000000</td>\n",
       "      <td>72.000000</td>\n",
       "      <td>23.000000</td>\n",
       "      <td>30.500000</td>\n",
       "      <td>32.000000</td>\n",
       "      <td>0.372500</td>\n",
       "      <td>29.000000</td>\n",
       "      <td>0.000000</td>\n",
       "    </tr>\n",
       "    <tr>\n",
       "      <th>75%</th>\n",
       "      <td>6.000000</td>\n",
       "      <td>140.250000</td>\n",
       "      <td>80.000000</td>\n",
       "      <td>32.000000</td>\n",
       "      <td>127.250000</td>\n",
       "      <td>36.600000</td>\n",
       "      <td>0.626250</td>\n",
       "      <td>41.000000</td>\n",
       "      <td>1.000000</td>\n",
       "    </tr>\n",
       "    <tr>\n",
       "      <th>max</th>\n",
       "      <td>17.000000</td>\n",
       "      <td>199.000000</td>\n",
       "      <td>122.000000</td>\n",
       "      <td>99.000000</td>\n",
       "      <td>846.000000</td>\n",
       "      <td>67.100000</td>\n",
       "      <td>2.420000</td>\n",
       "      <td>81.000000</td>\n",
       "      <td>1.000000</td>\n",
       "    </tr>\n",
       "  </tbody>\n",
       "</table>\n",
       "</div>"
      ],
      "text/plain": [
       "       Pregnancies     Glucose  BloodPressure  SkinThickness     Insulin  \\\n",
       "count   768.000000  768.000000     768.000000     768.000000  768.000000   \n",
       "mean      3.845052  120.894531      69.105469      20.536458   79.799479   \n",
       "std       3.369578   31.972618      19.355807      15.952218  115.244002   \n",
       "min       0.000000    0.000000       0.000000       0.000000    0.000000   \n",
       "25%       1.000000   99.000000      62.000000       0.000000    0.000000   \n",
       "50%       3.000000  117.000000      72.000000      23.000000   30.500000   \n",
       "75%       6.000000  140.250000      80.000000      32.000000  127.250000   \n",
       "max      17.000000  199.000000     122.000000      99.000000  846.000000   \n",
       "\n",
       "              BMI  DiabetesPedigreeFunction         Age     Outcome  \n",
       "count  768.000000                768.000000  768.000000  768.000000  \n",
       "mean    31.992578                  0.471876   33.240885    0.348958  \n",
       "std      7.884160                  0.331329   11.760232    0.476951  \n",
       "min      0.000000                  0.078000   21.000000    0.000000  \n",
       "25%     27.300000                  0.243750   24.000000    0.000000  \n",
       "50%     32.000000                  0.372500   29.000000    0.000000  \n",
       "75%     36.600000                  0.626250   41.000000    1.000000  \n",
       "max     67.100000                  2.420000   81.000000    1.000000  "
      ]
     },
     "execution_count": 94,
     "metadata": {},
     "output_type": "execute_result"
    }
   ],
   "source": [
    "# describing the data\n",
    "df.describe()"
   ]
  },
  {
   "cell_type": "markdown",
   "id": "1c146b2b",
   "metadata": {},
   "source": [
    "### CLEANING THE DATA"
   ]
  },
  {
   "cell_type": "markdown",
   "id": "e049c98f",
   "metadata": {},
   "source": [
    "* Minimum values for many variables are 0.\n",
    "* As biological parameters like Glucose, BP, Skin thickness, Insulin & BMI cannot have zero values, looks like null values have been coded as zeros\n",
    "* As a next step, find out how many zero values are included in each variable"
   ]
  },
  {
   "cell_type": "code",
   "execution_count": 95,
   "id": "3810bb7f",
   "metadata": {},
   "outputs": [
    {
     "data": {
      "text/plain": [
       "(111, 5, 35, 227, 374, 11, 0, 0)"
      ]
     },
     "execution_count": 95,
     "metadata": {},
     "output_type": "execute_result"
    }
   ],
   "source": [
    "(df.Pregnancies == 0).sum(), (df.Glucose == 0).sum(), (df.BloodPressure == 0).sum(), (df.SkinThickness == 0).sum(), (df.Insulin  == 0).sum(), (df.BMI == 0).sum(), (df.DiabetesPedigreeFunction == 0).sum(), (df.Age == 0).sum()\n",
    "# COUNTING CELLS WITH 0 VALUES FOR EACH VARIABLE AND PUBLISHING THE COUNTS BELOW"
   ]
  },
  {
   "cell_type": "markdown",
   "id": "56e352d5",
   "metadata": {},
   "source": [
    "#### SEPERATING \"NON- DIABETIC DATA\" AND \"DIABETIC DATA\" :"
   ]
  },
  {
   "cell_type": "code",
   "execution_count": 150,
   "id": "72793ffd",
   "metadata": {},
   "outputs": [
    {
     "data": {
      "text/html": [
       "<div>\n",
       "<style scoped>\n",
       "    .dataframe tbody tr th:only-of-type {\n",
       "        vertical-align: middle;\n",
       "    }\n",
       "\n",
       "    .dataframe tbody tr th {\n",
       "        vertical-align: top;\n",
       "    }\n",
       "\n",
       "    .dataframe thead th {\n",
       "        text-align: right;\n",
       "    }\n",
       "</style>\n",
       "<table border=\"1\" class=\"dataframe\">\n",
       "  <thead>\n",
       "    <tr style=\"text-align: right;\">\n",
       "      <th></th>\n",
       "      <th>Pregnancies</th>\n",
       "      <th>Glucose</th>\n",
       "      <th>BloodPressure</th>\n",
       "      <th>SkinThickness</th>\n",
       "      <th>Insulin</th>\n",
       "      <th>BMI</th>\n",
       "      <th>DiabetesPedigreeFunction</th>\n",
       "      <th>Age</th>\n",
       "      <th>Outcome</th>\n",
       "    </tr>\n",
       "  </thead>\n",
       "  <tbody>\n",
       "    <tr>\n",
       "      <th>1</th>\n",
       "      <td>1</td>\n",
       "      <td>85</td>\n",
       "      <td>66</td>\n",
       "      <td>29</td>\n",
       "      <td>0</td>\n",
       "      <td>26.6</td>\n",
       "      <td>0.351</td>\n",
       "      <td>31</td>\n",
       "      <td>0</td>\n",
       "    </tr>\n",
       "    <tr>\n",
       "      <th>3</th>\n",
       "      <td>1</td>\n",
       "      <td>89</td>\n",
       "      <td>66</td>\n",
       "      <td>23</td>\n",
       "      <td>94</td>\n",
       "      <td>28.1</td>\n",
       "      <td>0.167</td>\n",
       "      <td>21</td>\n",
       "      <td>0</td>\n",
       "    </tr>\n",
       "    <tr>\n",
       "      <th>5</th>\n",
       "      <td>5</td>\n",
       "      <td>116</td>\n",
       "      <td>74</td>\n",
       "      <td>0</td>\n",
       "      <td>0</td>\n",
       "      <td>25.6</td>\n",
       "      <td>0.201</td>\n",
       "      <td>30</td>\n",
       "      <td>0</td>\n",
       "    </tr>\n",
       "    <tr>\n",
       "      <th>7</th>\n",
       "      <td>10</td>\n",
       "      <td>115</td>\n",
       "      <td>0</td>\n",
       "      <td>0</td>\n",
       "      <td>0</td>\n",
       "      <td>35.3</td>\n",
       "      <td>0.134</td>\n",
       "      <td>29</td>\n",
       "      <td>0</td>\n",
       "    </tr>\n",
       "    <tr>\n",
       "      <th>10</th>\n",
       "      <td>4</td>\n",
       "      <td>110</td>\n",
       "      <td>92</td>\n",
       "      <td>0</td>\n",
       "      <td>0</td>\n",
       "      <td>37.6</td>\n",
       "      <td>0.191</td>\n",
       "      <td>30</td>\n",
       "      <td>0</td>\n",
       "    </tr>\n",
       "  </tbody>\n",
       "</table>\n",
       "</div>"
      ],
      "text/plain": [
       "    Pregnancies  Glucose  BloodPressure  SkinThickness  Insulin   BMI  \\\n",
       "1             1       85             66             29        0  26.6   \n",
       "3             1       89             66             23       94  28.1   \n",
       "5             5      116             74              0        0  25.6   \n",
       "7            10      115              0              0        0  35.3   \n",
       "10            4      110             92              0        0  37.6   \n",
       "\n",
       "    DiabetesPedigreeFunction  Age  Outcome  \n",
       "1                      0.351   31        0  \n",
       "3                      0.167   21        0  \n",
       "5                      0.201   30        0  \n",
       "7                      0.134   29        0  \n",
       "10                     0.191   30        0  "
      ]
     },
     "execution_count": 150,
     "metadata": {},
     "output_type": "execute_result"
    }
   ],
   "source": [
    "## SEPERATING NON DIABETIC('0') AND DIABETIC DATA('1') FROM OUTCOME VARIABLE\n",
    "## AND REPLACING THE 0'S WITH MEDIAN OF THE SAME VARIABLE  \n",
    "\n",
    "df1 = df[df.Outcome == 0]\n",
    "df2 = df[df.Outcome == 1]\n",
    "df1.head()"
   ]
  },
  {
   "cell_type": "code",
   "execution_count": 171,
   "id": "8267991f",
   "metadata": {},
   "outputs": [
    {
     "data": {
      "text/html": [
       "<div>\n",
       "<style scoped>\n",
       "    .dataframe tbody tr th:only-of-type {\n",
       "        vertical-align: middle;\n",
       "    }\n",
       "\n",
       "    .dataframe tbody tr th {\n",
       "        vertical-align: top;\n",
       "    }\n",
       "\n",
       "    .dataframe thead th {\n",
       "        text-align: right;\n",
       "    }\n",
       "</style>\n",
       "<table border=\"1\" class=\"dataframe\">\n",
       "  <thead>\n",
       "    <tr style=\"text-align: right;\">\n",
       "      <th></th>\n",
       "      <th>Pregnancies</th>\n",
       "      <th>Glucose</th>\n",
       "      <th>BloodPressure</th>\n",
       "      <th>SkinThickness</th>\n",
       "      <th>Insulin</th>\n",
       "      <th>BMI</th>\n",
       "      <th>DiabetesPedigreeFunction</th>\n",
       "      <th>Age</th>\n",
       "      <th>Outcome</th>\n",
       "    </tr>\n",
       "  </thead>\n",
       "  <tbody>\n",
       "    <tr>\n",
       "      <th>0</th>\n",
       "      <td>6</td>\n",
       "      <td>148</td>\n",
       "      <td>72</td>\n",
       "      <td>35</td>\n",
       "      <td>0</td>\n",
       "      <td>33.6</td>\n",
       "      <td>0.627</td>\n",
       "      <td>50</td>\n",
       "      <td>1</td>\n",
       "    </tr>\n",
       "    <tr>\n",
       "      <th>2</th>\n",
       "      <td>8</td>\n",
       "      <td>183</td>\n",
       "      <td>64</td>\n",
       "      <td>27</td>\n",
       "      <td>0</td>\n",
       "      <td>23.3</td>\n",
       "      <td>0.672</td>\n",
       "      <td>32</td>\n",
       "      <td>1</td>\n",
       "    </tr>\n",
       "    <tr>\n",
       "      <th>4</th>\n",
       "      <td>0</td>\n",
       "      <td>137</td>\n",
       "      <td>40</td>\n",
       "      <td>35</td>\n",
       "      <td>168</td>\n",
       "      <td>43.1</td>\n",
       "      <td>2.288</td>\n",
       "      <td>33</td>\n",
       "      <td>1</td>\n",
       "    </tr>\n",
       "    <tr>\n",
       "      <th>6</th>\n",
       "      <td>3</td>\n",
       "      <td>78</td>\n",
       "      <td>50</td>\n",
       "      <td>32</td>\n",
       "      <td>88</td>\n",
       "      <td>31.0</td>\n",
       "      <td>0.248</td>\n",
       "      <td>26</td>\n",
       "      <td>1</td>\n",
       "    </tr>\n",
       "    <tr>\n",
       "      <th>8</th>\n",
       "      <td>2</td>\n",
       "      <td>197</td>\n",
       "      <td>70</td>\n",
       "      <td>45</td>\n",
       "      <td>543</td>\n",
       "      <td>30.5</td>\n",
       "      <td>0.158</td>\n",
       "      <td>53</td>\n",
       "      <td>1</td>\n",
       "    </tr>\n",
       "  </tbody>\n",
       "</table>\n",
       "</div>"
      ],
      "text/plain": [
       "   Pregnancies  Glucose  BloodPressure  SkinThickness  Insulin   BMI  \\\n",
       "0            6      148             72             35        0  33.6   \n",
       "2            8      183             64             27        0  23.3   \n",
       "4            0      137             40             35      168  43.1   \n",
       "6            3       78             50             32       88  31.0   \n",
       "8            2      197             70             45      543  30.5   \n",
       "\n",
       "   DiabetesPedigreeFunction  Age  Outcome  \n",
       "0                     0.627   50        1  \n",
       "2                     0.672   32        1  \n",
       "4                     2.288   33        1  \n",
       "6                     0.248   26        1  \n",
       "8                     0.158   53        1  "
      ]
     },
     "execution_count": 171,
     "metadata": {},
     "output_type": "execute_result"
    }
   ],
   "source": [
    "df2.head()"
   ]
  },
  {
   "cell_type": "markdown",
   "id": "2f722b23",
   "metadata": {},
   "source": [
    "###### REPLACING MEDIAN VALUE WITH 0'S :"
   ]
  },
  {
   "cell_type": "code",
   "execution_count": 281,
   "id": "e4eb9f08",
   "metadata": {},
   "outputs": [],
   "source": [
    "## FINDING MEDIAN OF BOTH NON-DIA AND DIA \n",
    "## AND REPLACING THE 0'S WITH MEDIAN OF \"GLUCOSE\" IN BOTH NON DIABETES AND DIABETES\n",
    "\n",
    "df1 = df1.replace({'Glucose':0}, np.median(df1[\"Glucose\"]))\n",
    "df2 = df2.replace({'Glucose':0}, np.median(df2[\"Glucose\"]))\n",
    "\n",
    "## FINDING MEDIAN OF BOTH NON-DIA AND DIA \n",
    "## AND REPLACING THE 0'S WITH MEDIAN OF \"BLOODPRESSURE\" IN BOTH NON DIABETES AND DIABETES\n",
    "\n",
    "df1 = df1.replace({'BloodPressure':0}, np.median(df1[\"BloodPressure\"]))\n",
    "df2 = df2.replace({'BloodPressure':0}, np.median(df2[\"BloodPressure\"]))\n",
    "\n",
    "## FINDING MEDIAN OF BOTH NON-DIA AND DIA \n",
    "## AND REPLACING THE 0'S WITH MEDIAN OF \"SKINTHICKNESS\" IN BOTH NON DIABETES AND DIABETES\n",
    "\n",
    "df1 = df1.replace({'SkinThickness':0}, np.median(df1[\"SkinThickness\"]))\n",
    "df2 = df2.replace({'SkinThickness':0}, np.median(df2[\"SkinThickness\"]))\n",
    "\n",
    "## FINDING MEDIAN OF BOTH NON-DIA AND DIA \n",
    "## AND REPLACING THE 0'S WITH MEDIAN OF \"INSULIN\" IN BOTH NON DIABETES AND DIABETES\n",
    "\n",
    "df1 = df1.replace({'Insulin':0}, np.median(df1[\"Insulin\"]))\n",
    "df2 = df2.replace({'Insulin':0}, np.median(df2[\"Insulin\"]))\n",
    "\n",
    "## FINDING MEDIAN OF BOTH NON-DIA AND DIA \n",
    "## AND REPLACING THE 0'S WITH MEDIAN OF \"BMI\" IN BOTH NON DIABETES AND DIABETES\n",
    "\n",
    "df1 = df1.replace({'BMI':0}, np.median(df1[\"BMI\"]))\n",
    "df2 = df2.replace({'BMI':0}, np.median(df2[\"BMI\"]))"
   ]
  },
  {
   "cell_type": "code",
   "execution_count": 282,
   "id": "054abfa3",
   "metadata": {},
   "outputs": [
    {
     "data": {
      "text/html": [
       "<div>\n",
       "<style scoped>\n",
       "    .dataframe tbody tr th:only-of-type {\n",
       "        vertical-align: middle;\n",
       "    }\n",
       "\n",
       "    .dataframe tbody tr th {\n",
       "        vertical-align: top;\n",
       "    }\n",
       "\n",
       "    .dataframe thead th {\n",
       "        text-align: right;\n",
       "    }\n",
       "</style>\n",
       "<table border=\"1\" class=\"dataframe\">\n",
       "  <thead>\n",
       "    <tr style=\"text-align: right;\">\n",
       "      <th></th>\n",
       "      <th>Pregnancies</th>\n",
       "      <th>Glucose</th>\n",
       "      <th>BloodPressure</th>\n",
       "      <th>SkinThickness</th>\n",
       "      <th>Insulin</th>\n",
       "      <th>BMI</th>\n",
       "      <th>DiabetesPedigreeFunction</th>\n",
       "      <th>Age</th>\n",
       "      <th>Outcome</th>\n",
       "    </tr>\n",
       "  </thead>\n",
       "  <tbody>\n",
       "    <tr>\n",
       "      <th>1</th>\n",
       "      <td>1</td>\n",
       "      <td>85</td>\n",
       "      <td>66</td>\n",
       "      <td>29</td>\n",
       "      <td>39</td>\n",
       "      <td>26.6</td>\n",
       "      <td>0.351</td>\n",
       "      <td>31</td>\n",
       "      <td>0</td>\n",
       "    </tr>\n",
       "    <tr>\n",
       "      <th>3</th>\n",
       "      <td>1</td>\n",
       "      <td>89</td>\n",
       "      <td>66</td>\n",
       "      <td>23</td>\n",
       "      <td>94</td>\n",
       "      <td>28.1</td>\n",
       "      <td>0.167</td>\n",
       "      <td>21</td>\n",
       "      <td>0</td>\n",
       "    </tr>\n",
       "    <tr>\n",
       "      <th>5</th>\n",
       "      <td>5</td>\n",
       "      <td>116</td>\n",
       "      <td>74</td>\n",
       "      <td>21</td>\n",
       "      <td>39</td>\n",
       "      <td>25.6</td>\n",
       "      <td>0.201</td>\n",
       "      <td>30</td>\n",
       "      <td>0</td>\n",
       "    </tr>\n",
       "    <tr>\n",
       "      <th>7</th>\n",
       "      <td>10</td>\n",
       "      <td>115</td>\n",
       "      <td>70</td>\n",
       "      <td>21</td>\n",
       "      <td>39</td>\n",
       "      <td>35.3</td>\n",
       "      <td>0.134</td>\n",
       "      <td>29</td>\n",
       "      <td>0</td>\n",
       "    </tr>\n",
       "    <tr>\n",
       "      <th>10</th>\n",
       "      <td>4</td>\n",
       "      <td>110</td>\n",
       "      <td>92</td>\n",
       "      <td>21</td>\n",
       "      <td>39</td>\n",
       "      <td>37.6</td>\n",
       "      <td>0.191</td>\n",
       "      <td>30</td>\n",
       "      <td>0</td>\n",
       "    </tr>\n",
       "  </tbody>\n",
       "</table>\n",
       "</div>"
      ],
      "text/plain": [
       "    Pregnancies  Glucose  BloodPressure  SkinThickness  Insulin   BMI  \\\n",
       "1             1       85             66             29       39  26.6   \n",
       "3             1       89             66             23       94  28.1   \n",
       "5             5      116             74             21       39  25.6   \n",
       "7            10      115             70             21       39  35.3   \n",
       "10            4      110             92             21       39  37.6   \n",
       "\n",
       "    DiabetesPedigreeFunction  Age  Outcome  \n",
       "1                      0.351   31        0  \n",
       "3                      0.167   21        0  \n",
       "5                      0.201   30        0  \n",
       "7                      0.134   29        0  \n",
       "10                     0.191   30        0  "
      ]
     },
     "execution_count": 282,
     "metadata": {},
     "output_type": "execute_result"
    }
   ],
   "source": [
    "## CHECKING FIRST 5 OBSERAVATIONS FROM NON_DIABETIC AFTER CLEANING THE DATA\n",
    "df1.head()"
   ]
  },
  {
   "cell_type": "code",
   "execution_count": 283,
   "id": "99f9802e",
   "metadata": {},
   "outputs": [
    {
     "data": {
      "text/html": [
       "<div>\n",
       "<style scoped>\n",
       "    .dataframe tbody tr th:only-of-type {\n",
       "        vertical-align: middle;\n",
       "    }\n",
       "\n",
       "    .dataframe tbody tr th {\n",
       "        vertical-align: top;\n",
       "    }\n",
       "\n",
       "    .dataframe thead th {\n",
       "        text-align: right;\n",
       "    }\n",
       "</style>\n",
       "<table border=\"1\" class=\"dataframe\">\n",
       "  <thead>\n",
       "    <tr style=\"text-align: right;\">\n",
       "      <th></th>\n",
       "      <th>Pregnancies</th>\n",
       "      <th>Glucose</th>\n",
       "      <th>BloodPressure</th>\n",
       "      <th>SkinThickness</th>\n",
       "      <th>Insulin</th>\n",
       "      <th>BMI</th>\n",
       "      <th>DiabetesPedigreeFunction</th>\n",
       "      <th>Age</th>\n",
       "      <th>Outcome</th>\n",
       "    </tr>\n",
       "  </thead>\n",
       "  <tbody>\n",
       "    <tr>\n",
       "      <th>0</th>\n",
       "      <td>6</td>\n",
       "      <td>148</td>\n",
       "      <td>72</td>\n",
       "      <td>35</td>\n",
       "      <td>0</td>\n",
       "      <td>33.6</td>\n",
       "      <td>0.627</td>\n",
       "      <td>50</td>\n",
       "      <td>1</td>\n",
       "    </tr>\n",
       "    <tr>\n",
       "      <th>2</th>\n",
       "      <td>8</td>\n",
       "      <td>183</td>\n",
       "      <td>64</td>\n",
       "      <td>27</td>\n",
       "      <td>0</td>\n",
       "      <td>23.3</td>\n",
       "      <td>0.672</td>\n",
       "      <td>32</td>\n",
       "      <td>1</td>\n",
       "    </tr>\n",
       "    <tr>\n",
       "      <th>4</th>\n",
       "      <td>0</td>\n",
       "      <td>137</td>\n",
       "      <td>40</td>\n",
       "      <td>35</td>\n",
       "      <td>168</td>\n",
       "      <td>43.1</td>\n",
       "      <td>2.288</td>\n",
       "      <td>33</td>\n",
       "      <td>1</td>\n",
       "    </tr>\n",
       "    <tr>\n",
       "      <th>6</th>\n",
       "      <td>3</td>\n",
       "      <td>78</td>\n",
       "      <td>50</td>\n",
       "      <td>32</td>\n",
       "      <td>88</td>\n",
       "      <td>31.0</td>\n",
       "      <td>0.248</td>\n",
       "      <td>26</td>\n",
       "      <td>1</td>\n",
       "    </tr>\n",
       "    <tr>\n",
       "      <th>8</th>\n",
       "      <td>2</td>\n",
       "      <td>197</td>\n",
       "      <td>70</td>\n",
       "      <td>45</td>\n",
       "      <td>543</td>\n",
       "      <td>30.5</td>\n",
       "      <td>0.158</td>\n",
       "      <td>53</td>\n",
       "      <td>1</td>\n",
       "    </tr>\n",
       "  </tbody>\n",
       "</table>\n",
       "</div>"
      ],
      "text/plain": [
       "   Pregnancies  Glucose  BloodPressure  SkinThickness  Insulin   BMI  \\\n",
       "0            6      148             72             35        0  33.6   \n",
       "2            8      183             64             27        0  23.3   \n",
       "4            0      137             40             35      168  43.1   \n",
       "6            3       78             50             32       88  31.0   \n",
       "8            2      197             70             45      543  30.5   \n",
       "\n",
       "   DiabetesPedigreeFunction  Age  Outcome  \n",
       "0                     0.627   50        1  \n",
       "2                     0.672   32        1  \n",
       "4                     2.288   33        1  \n",
       "6                     0.248   26        1  \n",
       "8                     0.158   53        1  "
      ]
     },
     "execution_count": 283,
     "metadata": {},
     "output_type": "execute_result"
    }
   ],
   "source": [
    "## CHECKING FIRST 5 OBSERAVATIONS FROM DIABETIC AFTER CLEANING THE DATA\n",
    "df2.head()"
   ]
  },
  {
   "cell_type": "code",
   "execution_count": 189,
   "id": "41c73f83",
   "metadata": {},
   "outputs": [
    {
     "data": {
      "text/html": [
       "<div>\n",
       "<style scoped>\n",
       "    .dataframe tbody tr th:only-of-type {\n",
       "        vertical-align: middle;\n",
       "    }\n",
       "\n",
       "    .dataframe tbody tr th {\n",
       "        vertical-align: top;\n",
       "    }\n",
       "\n",
       "    .dataframe thead th {\n",
       "        text-align: right;\n",
       "    }\n",
       "</style>\n",
       "<table border=\"1\" class=\"dataframe\">\n",
       "  <thead>\n",
       "    <tr style=\"text-align: right;\">\n",
       "      <th></th>\n",
       "      <th>Pregnancies</th>\n",
       "      <th>Glucose</th>\n",
       "      <th>BloodPressure</th>\n",
       "      <th>SkinThickness</th>\n",
       "      <th>Insulin</th>\n",
       "      <th>BMI</th>\n",
       "      <th>DiabetesPedigreeFunction</th>\n",
       "      <th>Age</th>\n",
       "      <th>Outcome</th>\n",
       "    </tr>\n",
       "  </thead>\n",
       "  <tbody>\n",
       "    <tr>\n",
       "      <th>1</th>\n",
       "      <td>1</td>\n",
       "      <td>85</td>\n",
       "      <td>66</td>\n",
       "      <td>29</td>\n",
       "      <td>39</td>\n",
       "      <td>26.6</td>\n",
       "      <td>0.351</td>\n",
       "      <td>31</td>\n",
       "      <td>0</td>\n",
       "    </tr>\n",
       "    <tr>\n",
       "      <th>3</th>\n",
       "      <td>1</td>\n",
       "      <td>89</td>\n",
       "      <td>66</td>\n",
       "      <td>23</td>\n",
       "      <td>94</td>\n",
       "      <td>28.1</td>\n",
       "      <td>0.167</td>\n",
       "      <td>21</td>\n",
       "      <td>0</td>\n",
       "    </tr>\n",
       "    <tr>\n",
       "      <th>5</th>\n",
       "      <td>5</td>\n",
       "      <td>116</td>\n",
       "      <td>74</td>\n",
       "      <td>21</td>\n",
       "      <td>39</td>\n",
       "      <td>25.6</td>\n",
       "      <td>0.201</td>\n",
       "      <td>30</td>\n",
       "      <td>0</td>\n",
       "    </tr>\n",
       "    <tr>\n",
       "      <th>7</th>\n",
       "      <td>10</td>\n",
       "      <td>115</td>\n",
       "      <td>70</td>\n",
       "      <td>21</td>\n",
       "      <td>39</td>\n",
       "      <td>35.3</td>\n",
       "      <td>0.134</td>\n",
       "      <td>29</td>\n",
       "      <td>0</td>\n",
       "    </tr>\n",
       "    <tr>\n",
       "      <th>10</th>\n",
       "      <td>4</td>\n",
       "      <td>110</td>\n",
       "      <td>92</td>\n",
       "      <td>21</td>\n",
       "      <td>39</td>\n",
       "      <td>37.6</td>\n",
       "      <td>0.191</td>\n",
       "      <td>30</td>\n",
       "      <td>0</td>\n",
       "    </tr>\n",
       "    <tr>\n",
       "      <th>...</th>\n",
       "      <td>...</td>\n",
       "      <td>...</td>\n",
       "      <td>...</td>\n",
       "      <td>...</td>\n",
       "      <td>...</td>\n",
       "      <td>...</td>\n",
       "      <td>...</td>\n",
       "      <td>...</td>\n",
       "      <td>...</td>\n",
       "    </tr>\n",
       "    <tr>\n",
       "      <th>755</th>\n",
       "      <td>1</td>\n",
       "      <td>128</td>\n",
       "      <td>88</td>\n",
       "      <td>39</td>\n",
       "      <td>110</td>\n",
       "      <td>36.5</td>\n",
       "      <td>1.057</td>\n",
       "      <td>37</td>\n",
       "      <td>1</td>\n",
       "    </tr>\n",
       "    <tr>\n",
       "      <th>757</th>\n",
       "      <td>0</td>\n",
       "      <td>123</td>\n",
       "      <td>72</td>\n",
       "      <td>27</td>\n",
       "      <td>0</td>\n",
       "      <td>36.3</td>\n",
       "      <td>0.258</td>\n",
       "      <td>52</td>\n",
       "      <td>1</td>\n",
       "    </tr>\n",
       "    <tr>\n",
       "      <th>759</th>\n",
       "      <td>6</td>\n",
       "      <td>190</td>\n",
       "      <td>92</td>\n",
       "      <td>27</td>\n",
       "      <td>0</td>\n",
       "      <td>35.5</td>\n",
       "      <td>0.278</td>\n",
       "      <td>66</td>\n",
       "      <td>1</td>\n",
       "    </tr>\n",
       "    <tr>\n",
       "      <th>761</th>\n",
       "      <td>9</td>\n",
       "      <td>170</td>\n",
       "      <td>74</td>\n",
       "      <td>31</td>\n",
       "      <td>0</td>\n",
       "      <td>44.0</td>\n",
       "      <td>0.403</td>\n",
       "      <td>43</td>\n",
       "      <td>1</td>\n",
       "    </tr>\n",
       "    <tr>\n",
       "      <th>766</th>\n",
       "      <td>1</td>\n",
       "      <td>126</td>\n",
       "      <td>60</td>\n",
       "      <td>27</td>\n",
       "      <td>0</td>\n",
       "      <td>30.1</td>\n",
       "      <td>0.349</td>\n",
       "      <td>47</td>\n",
       "      <td>1</td>\n",
       "    </tr>\n",
       "  </tbody>\n",
       "</table>\n",
       "<p>768 rows × 9 columns</p>\n",
       "</div>"
      ],
      "text/plain": [
       "     Pregnancies  Glucose  BloodPressure  SkinThickness  Insulin   BMI  \\\n",
       "1              1       85             66             29       39  26.6   \n",
       "3              1       89             66             23       94  28.1   \n",
       "5              5      116             74             21       39  25.6   \n",
       "7             10      115             70             21       39  35.3   \n",
       "10             4      110             92             21       39  37.6   \n",
       "..           ...      ...            ...            ...      ...   ...   \n",
       "755            1      128             88             39      110  36.5   \n",
       "757            0      123             72             27        0  36.3   \n",
       "759            6      190             92             27        0  35.5   \n",
       "761            9      170             74             31        0  44.0   \n",
       "766            1      126             60             27        0  30.1   \n",
       "\n",
       "     DiabetesPedigreeFunction  Age  Outcome  \n",
       "1                       0.351   31        0  \n",
       "3                       0.167   21        0  \n",
       "5                       0.201   30        0  \n",
       "7                       0.134   29        0  \n",
       "10                      0.191   30        0  \n",
       "..                        ...  ...      ...  \n",
       "755                     1.057   37        1  \n",
       "757                     0.258   52        1  \n",
       "759                     0.278   66        1  \n",
       "761                     0.403   43        1  \n",
       "766                     0.349   47        1  \n",
       "\n",
       "[768 rows x 9 columns]"
      ]
     },
     "execution_count": 189,
     "metadata": {},
     "output_type": "execute_result"
    }
   ],
   "source": [
    "## CONCATINATING THE BOTH NON DIABETIC AND DIABETIC AFTER CLEANING DATA \n",
    "## AND CREATING NEW DATA AS \"diabetes_data\"\n",
    "\n",
    "dia_data = [df1, df2]\n",
    "diabetes_data = pd.concat(dia_data)\n",
    "diabetes_data"
   ]
  },
  {
   "cell_type": "code",
   "execution_count": 176,
   "id": "ed4954ae",
   "metadata": {},
   "outputs": [
    {
     "data": {
      "text/plain": [
       "(768, 9)"
      ]
     },
     "execution_count": 176,
     "metadata": {},
     "output_type": "execute_result"
    }
   ],
   "source": [
    "# TO CHECK THE VARIABLES AND OBSERVATIONS PRESENT IN THE DATA AFTER CLEANING THE DATA\n",
    "diabetes_data.shape"
   ]
  },
  {
   "cell_type": "code",
   "execution_count": 215,
   "id": "73b6e021",
   "metadata": {},
   "outputs": [
    {
     "data": {
      "text/plain": [
       "6912"
      ]
     },
     "execution_count": 215,
     "metadata": {},
     "output_type": "execute_result"
    }
   ],
   "source": [
    "# TO CHECK THE SIZE OF DATA AFTER CLEANING THE DATA\n",
    "diabetes_data.size"
   ]
  },
  {
   "cell_type": "code",
   "execution_count": 216,
   "id": "faebd116",
   "metadata": {},
   "outputs": [
    {
     "name": "stdout",
     "output_type": "stream",
     "text": [
      "<class 'pandas.core.frame.DataFrame'>\n",
      "Int64Index: 768 entries, 1 to 766\n",
      "Data columns (total 9 columns):\n",
      " #   Column                    Non-Null Count  Dtype  \n",
      "---  ------                    --------------  -----  \n",
      " 0   Pregnancies               768 non-null    int64  \n",
      " 1   Glucose                   768 non-null    int64  \n",
      " 2   BloodPressure             768 non-null    int64  \n",
      " 3   SkinThickness             768 non-null    int64  \n",
      " 4   Insulin                   768 non-null    int64  \n",
      " 5   BMI                       768 non-null    float64\n",
      " 6   DiabetesPedigreeFunction  768 non-null    float64\n",
      " 7   Age                       768 non-null    int64  \n",
      " 8   Outcome                   768 non-null    int64  \n",
      "dtypes: float64(2), int64(7)\n",
      "memory usage: 76.2 KB\n"
     ]
    }
   ],
   "source": [
    "# CHECKING THE INFORMATION OF THE NEW DATA \n",
    "diabetes_data.info()"
   ]
  },
  {
   "cell_type": "code",
   "execution_count": 175,
   "id": "5e39b7e3",
   "metadata": {},
   "outputs": [
    {
     "data": {
      "text/html": [
       "<div>\n",
       "<style scoped>\n",
       "    .dataframe tbody tr th:only-of-type {\n",
       "        vertical-align: middle;\n",
       "    }\n",
       "\n",
       "    .dataframe tbody tr th {\n",
       "        vertical-align: top;\n",
       "    }\n",
       "\n",
       "    .dataframe thead th {\n",
       "        text-align: right;\n",
       "    }\n",
       "</style>\n",
       "<table border=\"1\" class=\"dataframe\">\n",
       "  <thead>\n",
       "    <tr style=\"text-align: right;\">\n",
       "      <th></th>\n",
       "      <th>Pregnancies</th>\n",
       "      <th>Glucose</th>\n",
       "      <th>BloodPressure</th>\n",
       "      <th>SkinThickness</th>\n",
       "      <th>Insulin</th>\n",
       "      <th>BMI</th>\n",
       "      <th>DiabetesPedigreeFunction</th>\n",
       "      <th>Age</th>\n",
       "      <th>Outcome</th>\n",
       "    </tr>\n",
       "  </thead>\n",
       "  <tbody>\n",
       "    <tr>\n",
       "      <th>count</th>\n",
       "      <td>768.000000</td>\n",
       "      <td>768.000000</td>\n",
       "      <td>768.000000</td>\n",
       "      <td>768.00000</td>\n",
       "      <td>768.000000</td>\n",
       "      <td>768.000000</td>\n",
       "      <td>768.000000</td>\n",
       "      <td>768.000000</td>\n",
       "      <td>768.000000</td>\n",
       "    </tr>\n",
       "    <tr>\n",
       "      <th>mean</th>\n",
       "      <td>3.845052</td>\n",
       "      <td>121.677083</td>\n",
       "      <td>72.378906</td>\n",
       "      <td>27.43099</td>\n",
       "      <td>91.783854</td>\n",
       "      <td>32.433919</td>\n",
       "      <td>0.471876</td>\n",
       "      <td>33.240885</td>\n",
       "      <td>0.348958</td>\n",
       "    </tr>\n",
       "    <tr>\n",
       "      <th>std</th>\n",
       "      <td>3.369578</td>\n",
       "      <td>30.464161</td>\n",
       "      <td>12.104431</td>\n",
       "      <td>9.32146</td>\n",
       "      <td>108.121136</td>\n",
       "      <td>6.880664</td>\n",
       "      <td>0.331329</td>\n",
       "      <td>11.760232</td>\n",
       "      <td>0.476951</td>\n",
       "    </tr>\n",
       "    <tr>\n",
       "      <th>min</th>\n",
       "      <td>0.000000</td>\n",
       "      <td>44.000000</td>\n",
       "      <td>24.000000</td>\n",
       "      <td>7.00000</td>\n",
       "      <td>0.000000</td>\n",
       "      <td>18.200000</td>\n",
       "      <td>0.078000</td>\n",
       "      <td>21.000000</td>\n",
       "      <td>0.000000</td>\n",
       "    </tr>\n",
       "    <tr>\n",
       "      <th>25%</th>\n",
       "      <td>1.000000</td>\n",
       "      <td>99.750000</td>\n",
       "      <td>64.000000</td>\n",
       "      <td>21.00000</td>\n",
       "      <td>39.000000</td>\n",
       "      <td>27.500000</td>\n",
       "      <td>0.243750</td>\n",
       "      <td>24.000000</td>\n",
       "      <td>0.000000</td>\n",
       "    </tr>\n",
       "    <tr>\n",
       "      <th>50%</th>\n",
       "      <td>3.000000</td>\n",
       "      <td>117.000000</td>\n",
       "      <td>72.000000</td>\n",
       "      <td>27.00000</td>\n",
       "      <td>39.000000</td>\n",
       "      <td>32.050000</td>\n",
       "      <td>0.372500</td>\n",
       "      <td>29.000000</td>\n",
       "      <td>0.000000</td>\n",
       "    </tr>\n",
       "    <tr>\n",
       "      <th>75%</th>\n",
       "      <td>6.000000</td>\n",
       "      <td>140.250000</td>\n",
       "      <td>80.000000</td>\n",
       "      <td>32.00000</td>\n",
       "      <td>127.250000</td>\n",
       "      <td>36.600000</td>\n",
       "      <td>0.626250</td>\n",
       "      <td>41.000000</td>\n",
       "      <td>1.000000</td>\n",
       "    </tr>\n",
       "    <tr>\n",
       "      <th>max</th>\n",
       "      <td>17.000000</td>\n",
       "      <td>199.000000</td>\n",
       "      <td>122.000000</td>\n",
       "      <td>99.00000</td>\n",
       "      <td>846.000000</td>\n",
       "      <td>67.100000</td>\n",
       "      <td>2.420000</td>\n",
       "      <td>81.000000</td>\n",
       "      <td>1.000000</td>\n",
       "    </tr>\n",
       "  </tbody>\n",
       "</table>\n",
       "</div>"
      ],
      "text/plain": [
       "       Pregnancies     Glucose  BloodPressure  SkinThickness     Insulin  \\\n",
       "count   768.000000  768.000000     768.000000      768.00000  768.000000   \n",
       "mean      3.845052  121.677083      72.378906       27.43099   91.783854   \n",
       "std       3.369578   30.464161      12.104431        9.32146  108.121136   \n",
       "min       0.000000   44.000000      24.000000        7.00000    0.000000   \n",
       "25%       1.000000   99.750000      64.000000       21.00000   39.000000   \n",
       "50%       3.000000  117.000000      72.000000       27.00000   39.000000   \n",
       "75%       6.000000  140.250000      80.000000       32.00000  127.250000   \n",
       "max      17.000000  199.000000     122.000000       99.00000  846.000000   \n",
       "\n",
       "              BMI  DiabetesPedigreeFunction         Age     Outcome  \n",
       "count  768.000000                768.000000  768.000000  768.000000  \n",
       "mean    32.433919                  0.471876   33.240885    0.348958  \n",
       "std      6.880664                  0.331329   11.760232    0.476951  \n",
       "min     18.200000                  0.078000   21.000000    0.000000  \n",
       "25%     27.500000                  0.243750   24.000000    0.000000  \n",
       "50%     32.050000                  0.372500   29.000000    0.000000  \n",
       "75%     36.600000                  0.626250   41.000000    1.000000  \n",
       "max     67.100000                  2.420000   81.000000    1.000000  "
      ]
     },
     "execution_count": 175,
     "metadata": {},
     "output_type": "execute_result"
    }
   ],
   "source": [
    "# DESCRIBING THE DATA AFTER CLEANING THE DATA\n",
    "diabetes_data.describe()"
   ]
  },
  {
   "cell_type": "code",
   "execution_count": 178,
   "id": "0c76b691",
   "metadata": {},
   "outputs": [
    {
     "data": {
      "text/plain": [
       "Pregnancies                   int64\n",
       "Glucose                       int64\n",
       "BloodPressure                 int64\n",
       "SkinThickness                 int64\n",
       "Insulin                       int64\n",
       "BMI                         float64\n",
       "DiabetesPedigreeFunction    float64\n",
       "Age                           int64\n",
       "Outcome                       int64\n",
       "dtype: object"
      ]
     },
     "execution_count": 178,
     "metadata": {},
     "output_type": "execute_result"
    }
   ],
   "source": [
    "# CHECKING THE DATATYPE OF THE GIVEN DATA\n",
    "diabetes_data.dtypes"
   ]
  },
  {
   "cell_type": "markdown",
   "id": "6a86cbd7",
   "metadata": {},
   "source": [
    "## 2. Calculate appropriate measures of central tendency for Glucose and outcome column only?"
   ]
  },
  {
   "cell_type": "markdown",
   "id": "bade4aa6",
   "metadata": {},
   "source": [
    "#### SEPERATING \"NONDIABETIC\" AND \"DIABETIC\" FOR MEASURING OF CENTRAL TENDENCY :"
   ]
  },
  {
   "cell_type": "code",
   "execution_count": 179,
   "id": "c289e5d6",
   "metadata": {},
   "outputs": [],
   "source": [
    "# AGAIN SEPERATING THE NONDIABETES AND DIABETES FROM OUTCOME VARIABLE AFTER CLEANING THE DATA AND CREATING AS NEW DATA FOR BETTER UNDERSTANDING \n",
    "# O - REPRESENTED AS NON DIABETES\n",
    "# 1 - REPRESENTED AS DIABETES\n",
    "\n",
    "df1_non_dia = diabetes_data[diabetes_data.Outcome==0]\n",
    "df1_dia = diabetes_data[diabetes_data.Outcome==1]"
   ]
  },
  {
   "cell_type": "code",
   "execution_count": 180,
   "id": "5511a7ad",
   "metadata": {},
   "outputs": [
    {
     "data": {
      "text/html": [
       "<div>\n",
       "<style scoped>\n",
       "    .dataframe tbody tr th:only-of-type {\n",
       "        vertical-align: middle;\n",
       "    }\n",
       "\n",
       "    .dataframe tbody tr th {\n",
       "        vertical-align: top;\n",
       "    }\n",
       "\n",
       "    .dataframe thead th {\n",
       "        text-align: right;\n",
       "    }\n",
       "</style>\n",
       "<table border=\"1\" class=\"dataframe\">\n",
       "  <thead>\n",
       "    <tr style=\"text-align: right;\">\n",
       "      <th></th>\n",
       "      <th>Pregnancies</th>\n",
       "      <th>Glucose</th>\n",
       "      <th>BloodPressure</th>\n",
       "      <th>SkinThickness</th>\n",
       "      <th>Insulin</th>\n",
       "      <th>BMI</th>\n",
       "      <th>DiabetesPedigreeFunction</th>\n",
       "      <th>Age</th>\n",
       "      <th>Outcome</th>\n",
       "    </tr>\n",
       "  </thead>\n",
       "  <tbody>\n",
       "    <tr>\n",
       "      <th>1</th>\n",
       "      <td>1</td>\n",
       "      <td>85</td>\n",
       "      <td>66</td>\n",
       "      <td>29</td>\n",
       "      <td>39</td>\n",
       "      <td>26.6</td>\n",
       "      <td>0.351</td>\n",
       "      <td>31</td>\n",
       "      <td>0</td>\n",
       "    </tr>\n",
       "    <tr>\n",
       "      <th>3</th>\n",
       "      <td>1</td>\n",
       "      <td>89</td>\n",
       "      <td>66</td>\n",
       "      <td>23</td>\n",
       "      <td>94</td>\n",
       "      <td>28.1</td>\n",
       "      <td>0.167</td>\n",
       "      <td>21</td>\n",
       "      <td>0</td>\n",
       "    </tr>\n",
       "    <tr>\n",
       "      <th>5</th>\n",
       "      <td>5</td>\n",
       "      <td>116</td>\n",
       "      <td>74</td>\n",
       "      <td>21</td>\n",
       "      <td>39</td>\n",
       "      <td>25.6</td>\n",
       "      <td>0.201</td>\n",
       "      <td>30</td>\n",
       "      <td>0</td>\n",
       "    </tr>\n",
       "    <tr>\n",
       "      <th>7</th>\n",
       "      <td>10</td>\n",
       "      <td>115</td>\n",
       "      <td>70</td>\n",
       "      <td>21</td>\n",
       "      <td>39</td>\n",
       "      <td>35.3</td>\n",
       "      <td>0.134</td>\n",
       "      <td>29</td>\n",
       "      <td>0</td>\n",
       "    </tr>\n",
       "    <tr>\n",
       "      <th>10</th>\n",
       "      <td>4</td>\n",
       "      <td>110</td>\n",
       "      <td>92</td>\n",
       "      <td>21</td>\n",
       "      <td>39</td>\n",
       "      <td>37.6</td>\n",
       "      <td>0.191</td>\n",
       "      <td>30</td>\n",
       "      <td>0</td>\n",
       "    </tr>\n",
       "  </tbody>\n",
       "</table>\n",
       "</div>"
      ],
      "text/plain": [
       "    Pregnancies  Glucose  BloodPressure  SkinThickness  Insulin   BMI  \\\n",
       "1             1       85             66             29       39  26.6   \n",
       "3             1       89             66             23       94  28.1   \n",
       "5             5      116             74             21       39  25.6   \n",
       "7            10      115             70             21       39  35.3   \n",
       "10            4      110             92             21       39  37.6   \n",
       "\n",
       "    DiabetesPedigreeFunction  Age  Outcome  \n",
       "1                      0.351   31        0  \n",
       "3                      0.167   21        0  \n",
       "5                      0.201   30        0  \n",
       "7                      0.134   29        0  \n",
       "10                     0.191   30        0  "
      ]
     },
     "execution_count": 180,
     "metadata": {},
     "output_type": "execute_result"
    }
   ],
   "source": [
    "# TO CHECK THE TOP 5 OBSERVATION FROM NON DIABETES DATA\n",
    "df1_non_dia.head()"
   ]
  },
  {
   "cell_type": "code",
   "execution_count": 181,
   "id": "08363fee",
   "metadata": {},
   "outputs": [
    {
     "data": {
      "text/html": [
       "<div>\n",
       "<style scoped>\n",
       "    .dataframe tbody tr th:only-of-type {\n",
       "        vertical-align: middle;\n",
       "    }\n",
       "\n",
       "    .dataframe tbody tr th {\n",
       "        vertical-align: top;\n",
       "    }\n",
       "\n",
       "    .dataframe thead th {\n",
       "        text-align: right;\n",
       "    }\n",
       "</style>\n",
       "<table border=\"1\" class=\"dataframe\">\n",
       "  <thead>\n",
       "    <tr style=\"text-align: right;\">\n",
       "      <th></th>\n",
       "      <th>Pregnancies</th>\n",
       "      <th>Glucose</th>\n",
       "      <th>BloodPressure</th>\n",
       "      <th>SkinThickness</th>\n",
       "      <th>Insulin</th>\n",
       "      <th>BMI</th>\n",
       "      <th>DiabetesPedigreeFunction</th>\n",
       "      <th>Age</th>\n",
       "      <th>Outcome</th>\n",
       "    </tr>\n",
       "  </thead>\n",
       "  <tbody>\n",
       "    <tr>\n",
       "      <th>0</th>\n",
       "      <td>6</td>\n",
       "      <td>148</td>\n",
       "      <td>72</td>\n",
       "      <td>35</td>\n",
       "      <td>0</td>\n",
       "      <td>33.6</td>\n",
       "      <td>0.627</td>\n",
       "      <td>50</td>\n",
       "      <td>1</td>\n",
       "    </tr>\n",
       "    <tr>\n",
       "      <th>2</th>\n",
       "      <td>8</td>\n",
       "      <td>183</td>\n",
       "      <td>64</td>\n",
       "      <td>27</td>\n",
       "      <td>0</td>\n",
       "      <td>23.3</td>\n",
       "      <td>0.672</td>\n",
       "      <td>32</td>\n",
       "      <td>1</td>\n",
       "    </tr>\n",
       "    <tr>\n",
       "      <th>4</th>\n",
       "      <td>0</td>\n",
       "      <td>137</td>\n",
       "      <td>40</td>\n",
       "      <td>35</td>\n",
       "      <td>168</td>\n",
       "      <td>43.1</td>\n",
       "      <td>2.288</td>\n",
       "      <td>33</td>\n",
       "      <td>1</td>\n",
       "    </tr>\n",
       "    <tr>\n",
       "      <th>6</th>\n",
       "      <td>3</td>\n",
       "      <td>78</td>\n",
       "      <td>50</td>\n",
       "      <td>32</td>\n",
       "      <td>88</td>\n",
       "      <td>31.0</td>\n",
       "      <td>0.248</td>\n",
       "      <td>26</td>\n",
       "      <td>1</td>\n",
       "    </tr>\n",
       "    <tr>\n",
       "      <th>8</th>\n",
       "      <td>2</td>\n",
       "      <td>197</td>\n",
       "      <td>70</td>\n",
       "      <td>45</td>\n",
       "      <td>543</td>\n",
       "      <td>30.5</td>\n",
       "      <td>0.158</td>\n",
       "      <td>53</td>\n",
       "      <td>1</td>\n",
       "    </tr>\n",
       "  </tbody>\n",
       "</table>\n",
       "</div>"
      ],
      "text/plain": [
       "   Pregnancies  Glucose  BloodPressure  SkinThickness  Insulin   BMI  \\\n",
       "0            6      148             72             35        0  33.6   \n",
       "2            8      183             64             27        0  23.3   \n",
       "4            0      137             40             35      168  43.1   \n",
       "6            3       78             50             32       88  31.0   \n",
       "8            2      197             70             45      543  30.5   \n",
       "\n",
       "   DiabetesPedigreeFunction  Age  Outcome  \n",
       "0                     0.627   50        1  \n",
       "2                     0.672   32        1  \n",
       "4                     2.288   33        1  \n",
       "6                     0.248   26        1  \n",
       "8                     0.158   53        1  "
      ]
     },
     "execution_count": 181,
     "metadata": {},
     "output_type": "execute_result"
    }
   ],
   "source": [
    "# TO CHECK THE TOP 5 OBSERVATIONS FROM DIABETES DATA\n",
    "df1_dia.head()"
   ]
  },
  {
   "cell_type": "code",
   "execution_count": 182,
   "id": "10bb7ea1",
   "metadata": {},
   "outputs": [
    {
     "name": "stdout",
     "output_type": "stream",
     "text": [
      "mean of the Glucose with non-diabetes : 110.622\n",
      "median of the Glucose with non-diabetes : 107.0\n",
      "mode of the Glucose with non-diabetes : 0    99\n",
      "dtype: int64\n"
     ]
    }
   ],
   "source": [
    "## IMPORTANT MEASURES OF CENTRAL TENDENCY ARE 'MEAN','MEDIAN', AND 'MODE'\n",
    "## FINDING AND PRINING THE MEAN, MEDIAN AND MODE OF GLUCOSE WITH NON-DIABETES\n",
    "\n",
    "print(\"mean of the Glucose with non-diabetes :\", df1_non_dia[\"Glucose\"].mean())\n",
    "print(\"median of the Glucose with non-diabetes :\", df1_non_dia[\"Glucose\"].median())\n",
    "print(\"mode of the Glucose with non-diabetes :\", df1_non_dia[\"Glucose\"].mode())"
   ]
  },
  {
   "cell_type": "code",
   "execution_count": 190,
   "id": "c4db60d4",
   "metadata": {},
   "outputs": [
    {
     "name": "stdout",
     "output_type": "stream",
     "text": [
      "mean of the Glucose with diabetes : 142.30223880597015\n",
      "median of the Glucose with diabetes : 140.0\n",
      "mode of the Glucose with diabetes : 0    125\n",
      "dtype: int64\n"
     ]
    }
   ],
   "source": [
    "## FINDING AND PRINTING THE MEAN, MEDIAN, AND MODE OF GLUCOSE WITH DIABETES\n",
    "\n",
    "print(\"mean of the Glucose with diabetes :\", df1_dia[\"Glucose\"].mean())\n",
    "print(\"median of the Glucose with diabetes :\", df1_dia[\"Glucose\"].median())\n",
    "print(\"mode of the Glucose with diabetes :\", df1_dia[\"Glucose\"].mode())"
   ]
  },
  {
   "cell_type": "code",
   "execution_count": 185,
   "id": "59a8bae5",
   "metadata": {},
   "outputs": [
    {
     "name": "stdout",
     "output_type": "stream",
     "text": [
      "mode of the outcome : 0    0\n",
      "dtype: int64\n"
     ]
    }
   ],
   "source": [
    "## CHECKING THE ONLY MODE FOR OUTCOMES\n",
    "## BECAUSE WE CAN'T TAKE MEAN AND MEDIAN FOR CATEGORICAL DATA\n",
    "\n",
    "print(\"mode of the outcome :\", diabetes_data[\"Outcome\"].mode())"
   ]
  },
  {
   "cell_type": "markdown",
   "id": "1778957f",
   "metadata": {},
   "source": [
    "## 3. Please provide 5 points data summaries for required columns?"
   ]
  },
  {
   "cell_type": "markdown",
   "id": "367577b4",
   "metadata": {},
   "source": [
    "    * In my opinion Main 5 required columns are - Glucose, BloodPressure, Insuline, BMI and Age"
   ]
  },
  {
   "cell_type": "markdown",
   "id": "f7752b85",
   "metadata": {},
   "source": [
    "###### Five point data summeries for \"Glucose\" :"
   ]
  },
  {
   "cell_type": "code",
   "execution_count": 294,
   "id": "e3c75c13",
   "metadata": {},
   "outputs": [
    {
     "name": "stdout",
     "output_type": "stream",
     "text": [
      "min :  44\n",
      "25% :  99.75\n",
      "50% :  117.0\n",
      "75% :  140.25\n",
      "max :  199\n"
     ]
    }
   ],
   "source": [
    "## FINDING AND PRINTING THE FIVE POTNTS DATA SUMMERIES \n",
    "## MINMUM, 25%(quartile1), 50%, 75%(quartile3), AND MAXIMUM VALUES OF \"Glucose\" \n",
    "\n",
    "## USING min() function, TO CHECK THE MINIMUM VALUE \n",
    "## USING quantile(0.25) function, TO CHECK THE 25th % OF DATA\n",
    "## USING quantile(0.5) function, TO CHECK THE 50th % OF DATA\n",
    "## USING quantile(0.75) function, TO CHECK THE 75th % OF DATA\n",
    "## USING max() function, TO CHECK THE MAXIMUM VALUE \n",
    "\n",
    "print(\"min : \", diabetes_data[\"Glucose\"].min())\n",
    "print(\"25% : \", diabetes_data.Glucose.quantile(0.25))\n",
    "print(\"50% : \", diabetes_data.Glucose.quantile(0.5))\n",
    "print(\"75% : \", diabetes_data.Glucose.quantile(0.75))\n",
    "print(\"max : \", diabetes_data[\"Glucose\"].max())"
   ]
  },
  {
   "cell_type": "markdown",
   "id": "38284b1c",
   "metadata": {},
   "source": [
    "###### Five point data summeries for \"BloodPressure\" :"
   ]
  },
  {
   "cell_type": "code",
   "execution_count": 295,
   "id": "72603906",
   "metadata": {},
   "outputs": [
    {
     "name": "stdout",
     "output_type": "stream",
     "text": [
      "min :  24\n",
      "25% :  64.0\n",
      "50% :  72.0\n",
      "75% :  80.0\n",
      "max :  122\n"
     ]
    }
   ],
   "source": [
    "## FINDING AND PRINTING THE FIVE POTNTS DATA SUMMERIES \n",
    "## MINMUM, 25%(quartile1), 50%, 75%(quartile3), AND MAXIMUM VALUES OF \"BloodPressure\"\n",
    "\n",
    "print(\"min : \", diabetes_data[\"BloodPressure\"].min())\n",
    "print(\"25% : \", diabetes_data.BloodPressure.quantile(0.25))\n",
    "print(\"50% : \", diabetes_data.BloodPressure.quantile(0.5))\n",
    "print(\"75% : \", diabetes_data.BloodPressure.quantile(0.75))\n",
    "print(\"max : \", diabetes_data[\"BloodPressure\"].max())"
   ]
  },
  {
   "cell_type": "markdown",
   "id": "1a7492dc",
   "metadata": {},
   "source": [
    "###### Five point data summeries for \"Insulin\" :"
   ]
  },
  {
   "cell_type": "code",
   "execution_count": 277,
   "id": "19138e2d",
   "metadata": {},
   "outputs": [
    {
     "name": "stdout",
     "output_type": "stream",
     "text": [
      "min :  0\n",
      "25% :  39.0\n",
      "50% :  39.0\n",
      "75% :  127.25\n",
      "max :  846\n"
     ]
    }
   ],
   "source": [
    "## FINDING AND PRINTING THE FIVE POTNTS DATA SUMMERIES\n",
    "## MINMUM, 25%(quartile1), 50%, 75%(quartile3), AND MAXIMUM VALUES OF \"Insulin\"\n",
    "\n",
    "print(\"min : \", diabetes_data[\"Insulin\"].min())\n",
    "print(\"25% : \", diabetes_data.Insulin.quantile(0.25))\n",
    "print(\"50% : \", diabetes_data.Insulin.quantile(0.5))\n",
    "print(\"75% : \", diabetes_data.Insulin.quantile(0.75))\n",
    "print(\"max : \", diabetes_data[\"Insulin\"].max())"
   ]
  },
  {
   "cell_type": "markdown",
   "id": "46849cbf",
   "metadata": {},
   "source": [
    "###### Five point data summeries for \"BMI\" :"
   ]
  },
  {
   "cell_type": "code",
   "execution_count": 285,
   "id": "a809b8c2",
   "metadata": {},
   "outputs": [
    {
     "name": "stdout",
     "output_type": "stream",
     "text": [
      "min :  18.2\n",
      "25% :  27.5\n",
      "50% :  32.05\n",
      "75% :  36.6\n",
      "max :  67.1\n"
     ]
    }
   ],
   "source": [
    "## FINDING AND PRINTING THE FIVE POTNTS DATA SUMMERIES \n",
    "## MINMUM, 25%(quartile1), 50%, 75%(quartile3), AND MAXIMUM VALUES OF \"BMI\"\n",
    "\n",
    "print(\"min : \", diabetes_data[\"BMI\"].min())\n",
    "print(\"25% : \", diabetes_data.BMI.quantile(0.25))\n",
    "print(\"50% : \", diabetes_data.BMI.quantile(0.5))\n",
    "print(\"75% : \", diabetes_data.BMI.quantile(0.75))\n",
    "print(\"max : \", diabetes_data[\"BMI\"].max())"
   ]
  },
  {
   "cell_type": "markdown",
   "id": "32e3bed1",
   "metadata": {},
   "source": [
    "###### Five point data summeries for \"Age\" :"
   ]
  },
  {
   "cell_type": "code",
   "execution_count": 284,
   "id": "db009815",
   "metadata": {},
   "outputs": [
    {
     "name": "stdout",
     "output_type": "stream",
     "text": [
      "min :  21\n",
      "25% :  24.0\n",
      "50% :  29.0\n",
      "75% :  41.0\n",
      "max :  81\n"
     ]
    }
   ],
   "source": [
    "## FINDING AND PRINTING THE FIVE POTNTS DATA SUMMERIES \n",
    "## MINMUM, 25%(quartile1), 50%, 75%(quartile3), AND MAXIMUM VALUES OF \"Age\"\n",
    "\n",
    "print(\"min : \", diabetes_data[\"Age\"].min())\n",
    "print(\"25% : \", diabetes_data.Age.quantile(0.25))\n",
    "print(\"50% : \", diabetes_data.Age.quantile(0.5))\n",
    "print(\"75% : \", diabetes_data.Age.quantile(0.75))\n",
    "print(\"max : \", diabetes_data[\"Age\"].max())"
   ]
  },
  {
   "cell_type": "markdown",
   "id": "631f98a6",
   "metadata": {},
   "source": [
    "## 4. Please create an appropriate plot to examine the relationship between Age and Glucose."
   ]
  },
  {
   "cell_type": "markdown",
   "id": "53c07158",
   "metadata": {},
   "source": [
    "#### USING \"SCATTER PLOT\" TO EXAMINE THE RELATIONSHIP :"
   ]
  },
  {
   "cell_type": "code",
   "execution_count": 218,
   "id": "493e5212",
   "metadata": {},
   "outputs": [
    {
     "data": {
      "text/plain": [
       "Text(0.5, 1.0, 'Scatter plot to show the Relationship between Age and Glucose')"
      ]
     },
     "execution_count": 218,
     "metadata": {},
     "output_type": "execute_result"
    },
    {
     "data": {
      "image/png": "[encoded data removed]",
      "text/plain": [
       "<Figure size 432x288 with 1 Axes>"
      ]
     },
     "metadata": {
      "needs_background": "light"
     },
     "output_type": "display_data"
    }
   ],
   "source": [
    "## \"SCATTER PLOT\" IS BEST PLOT FOR EXAMINE THE RELATIONSHIP BETWEEN \"Age\" AND \"Glucose\" \n",
    "sns.scatterplot(x = \"Age\", y = \"Glucose\", hue = \"Outcome\", data = diabetes_data)\n",
    "\n",
    "## giving the syntax to print xlable as \"Age\" and ylable as \"Glucose\"\n",
    "plt.xlabel(\"Age\")\n",
    "plt.ylabel(\"Glucose\")\n",
    "\n",
    "## Giving the title for graph\n",
    "plt.title(\"Scatter plot to show the Relationship between Age and Glucose\") "
   ]
  },
  {
   "cell_type": "markdown",
   "id": "72d9baef",
   "metadata": {},
   "source": [
    "## 5. Please create an appropriate plot to see the distribution of Outcome variable?"
   ]
  },
  {
   "cell_type": "markdown",
   "id": "2ec92c18",
   "metadata": {},
   "source": [
    "####  DISTRIBUTION OF 'OUTCOME' :"
   ]
  },
  {
   "cell_type": "code",
   "execution_count": 192,
   "id": "92b90239",
   "metadata": {},
   "outputs": [
    {
     "data": {
      "text/plain": [
       "<AxesSubplot:title={'center':'Distribution of Outcome'}, xlabel='Outcome', ylabel='count'>"
      ]
     },
     "execution_count": 192,
     "metadata": {},
     "output_type": "execute_result"
    },
    {
     "data": {
      "image/png": "[encoded data removed]",
      "text/plain": [
       "<Figure size 360x216 with 1 Axes>"
      ]
     },
     "metadata": {
      "needs_background": "light"
     },
     "output_type": "display_data"
    }
   ],
   "source": [
    "## COUNTPLOT IS BEST TO SEE THE DISTRIBUTION OF 'Outcome'\n",
    "\n",
    "plt.figure(figsize=(5,3))\n",
    "plt.title(\"Distribution of Outcome\")\n",
    "sns.countplot(x=diabetes_data.Outcome)"
   ]
  },
  {
   "cell_type": "markdown",
   "id": "55a4a9cc",
   "metadata": {},
   "source": [
    "## 6. Please examine the distribution of numerical data and explain which variable normally distributed and which variable is seems to be skewed. Please also tell the direction of skewness."
   ]
  },
  {
   "cell_type": "markdown",
   "id": "96dc23e6",
   "metadata": {},
   "source": [
    "#### USING \"HISTPLOT\" TO GET DISTRIBUTION OF NUMERICAL DATA :"
   ]
  },
  {
   "cell_type": "code",
   "execution_count": 198,
   "id": "7da75ab9",
   "metadata": {},
   "outputs": [
    {
     "data": {
      "text/plain": [
       "<AxesSubplot:title={'center':'Distribution of Age'}, xlabel='Age', ylabel='Count'>"
      ]
     },
     "execution_count": 198,
     "metadata": {},
     "output_type": "execute_result"
    },
    {
     "data": {
      "image/png": "[encoded data removed]",
      "text/plain": [
       "<Figure size 1080x720 with 4 Axes>"
      ]
     },
     "metadata": {
      "needs_background": "light"
     },
     "output_type": "display_data"
    },
    {
     "data": {
      "image/png": "[encoded data removed]",
      "text/plain": [
       "<Figure size 1080x720 with 4 Axes>"
      ]
     },
     "metadata": {
      "needs_background": "light"
     },
     "output_type": "display_data"
    }
   ],
   "source": [
    "## GIVING THE FIGURE SIZE\n",
    "## USING SUBPLOT FUNCTION TO CREATE MULTIPLE PLOTS IN A SINGLE PLOT\n",
    "## AND GIVING TITLES TO EVERY VARIABLE OUTPUT\n",
    "\n",
    "## AND BY USING \"histplot()\", DISTRIBUTING THE NUMERICAL DATA FROM IN THE GIVEN DATA\n",
    "\n",
    "plt.figure(figsize=(15,10))\n",
    "plt.subplot(2,2,1)\n",
    "plt.title(\"Distribution of Pregnancies\")\n",
    "sns.histplot(diabetes_data,x=\"Pregnancies\",color=\"gray\", kde=True)\n",
    "\n",
    "plt.subplot(2,2,2)\n",
    "plt.title(\"Distribution of Glucose\")\n",
    "sns.histplot(diabetes_data, x=\"Glucose\", color=\"red\", kde=True)\n",
    "\n",
    "plt.subplot(2,2,3)\n",
    "plt.title(\"Distribution of BloodPressure\")\n",
    "sns.histplot(diabetes_data, x=\"BloodPressure\", color=\"maroon\", kde=True)\n",
    "\n",
    "plt.subplot(2,2,4)\n",
    "plt.title(\"Distribution of SkinThickness\")\n",
    "sns.histplot(diabetes_data, x=\"SkinThickness\", color=\"blue\", kde=True)\n",
    "\n",
    "plt.figure(figsize=(15,10))\n",
    "plt.subplot(2,2,1)\n",
    "plt.title(\"Distribution of Insulin\")\n",
    "sns.histplot(diabetes_data,x=\"Insulin\",color=\"black\", kde=True)\n",
    "\n",
    "plt.subplot(2,2,2)\n",
    "plt.title(\"Distribution of BMI\")\n",
    "sns.histplot(diabetes_data, x=\"BMI\", color=\"green\", kde=True)\n",
    "\n",
    "plt.subplot(2,2,3)\n",
    "plt.title(\"Distribution of DiabetesPedigreeFunction\")\n",
    "sns.histplot(diabetes_data, x=\"DiabetesPedigreeFunction\", color=\"purple\", kde=True)\n",
    "\n",
    "plt.subplot(2,2,4)\n",
    "plt.title(\"Distribution of Age\")\n",
    "sns.histplot(diabetes_data, x=\"Age\", color=\"orange\", kde=True)\n"
   ]
  },
  {
   "cell_type": "markdown",
   "id": "5af20be3",
   "metadata": {},
   "source": [
    "* SKEWED VARIABLES :    \n",
    "  * Variables Pregnancies, Insulin, Glucose, SkinThickness, DiabetesPedigreeFunction, BMI, and Age are seems to be skewed\n",
    "* Variable 'BloodPressure' is seems to be normally distributed\n",
    "* DIRECTION OF SKEWENESS :\n",
    "  * And the variables Glucose and BMI are moderately right skewed \n",
    "  * And remaining variables Pregnancies, Insulin, SkinThickness, DiabetesPedigreeFunction and Age are highly right skewed"
   ]
  },
  {
   "cell_type": "markdown",
   "id": "0bba25c8",
   "metadata": {},
   "source": [
    "## 7. Please calculate the skewness value and divide variables into symmetrical, moderately skewed and highly skewed."
   ]
  },
  {
   "cell_type": "markdown",
   "id": "15159dc7",
   "metadata": {},
   "source": [
    "* WE ARE GOING TO FIND THE DISTRIBUTION OF DATA FROM OBTAINED SKEWNESS VALUE\n",
    "* IF THE SKEWNESS VALUE IS BETWEEN [\"-0.5 TO 0.5\"], THEN THAT DATA IS \"NORMALLY DISTRIBUTED\"\n",
    "* IF THE SKEWNESS VALUES IS BETWEEN [\"-1 TO -0.5 OR 0.5 TO 1\"], THEN IT IS \"MODERATELY SKEWED\"\n",
    "* IF THE VALUE IS [\"ABOVE (-1) OR ABOVE(+1)\"], THEN IT IS \"HIGHLY SKEWED\""
   ]
  },
  {
   "cell_type": "markdown",
   "id": "e77b1eb5",
   "metadata": {},
   "source": [
    "#### CHECHING THE SKEWNESS VALUES :"
   ]
  },
  {
   "cell_type": "code",
   "execution_count": 246,
   "id": "d1adec65",
   "metadata": {},
   "outputs": [
    {
     "data": {
      "text/plain": [
       "0.9016739791518584"
      ]
     },
     "execution_count": 246,
     "metadata": {},
     "output_type": "execute_result"
    }
   ],
   "source": [
    "## FIND THE SKEWNESS VALUE FOR \"Pregnancies\" BY USING .skew( ) FUNCTION\n",
    "\n",
    "diabetes_data[\"Pregnancies\"].skew()"
   ]
  },
  {
   "cell_type": "markdown",
   "id": "2f10311d",
   "metadata": {},
   "source": [
    "        - So, the value is between 0.5 to 1,\n",
    "        - It is \"moderately skewed\""
   ]
  },
  {
   "cell_type": "code",
   "execution_count": 247,
   "id": "f400e68c",
   "metadata": {},
   "outputs": [
    {
     "data": {
      "text/plain": [
       "0.5323242439691904"
      ]
     },
     "execution_count": 247,
     "metadata": {},
     "output_type": "execute_result"
    }
   ],
   "source": [
    "## FIND THE SKEWNESS VALUE FOR \"Glucose\" BY USING .skew( ) FUNCTION\n",
    "\n",
    "diabetes_data[\"Glucose\"].skew()"
   ]
  },
  {
   "cell_type": "markdown",
   "id": "ca8b03f8",
   "metadata": {},
   "source": [
    "        - So, the value is between 0.5 to 1,\n",
    "        - It is \"moderately skewed\""
   ]
  },
  {
   "cell_type": "code",
   "execution_count": 248,
   "id": "691b755f",
   "metadata": {},
   "outputs": [
    {
     "data": {
      "text/plain": [
       "0.14341321214943537"
      ]
     },
     "execution_count": 248,
     "metadata": {},
     "output_type": "execute_result"
    }
   ],
   "source": [
    "## FIND THE SKEWNESS VALUE FOR \"\" BY USING .skew( ) FUNCTION\n",
    "\n",
    "diabetes_data[\"BloodPressure\"].skew()"
   ]
  },
  {
   "cell_type": "markdown",
   "id": "5709c126",
   "metadata": {},
   "source": [
    "        - So, the value is between -0.5 to 0.5,\n",
    "        - It is \"SYMMETRICAL DATA or Normally distributed\""
   ]
  },
  {
   "cell_type": "code",
   "execution_count": 249,
   "id": "04c8e90f",
   "metadata": {},
   "outputs": [
    {
     "data": {
      "text/plain": [
       "1.1287427462705328"
      ]
     },
     "execution_count": 249,
     "metadata": {},
     "output_type": "execute_result"
    }
   ],
   "source": [
    "## FIND THE SKEWNESS VALUE FOR \"SkinThickness\" BY USING .skew( ) FUNCTION\n",
    "\n",
    "diabetes_data[\"SkinThickness\"].skew()"
   ]
  },
  {
   "cell_type": "markdown",
   "id": "f94cfcab",
   "metadata": {},
   "source": [
    "        - So, the value is more than 1\n",
    "        - It is \"highly right skewed\""
   ]
  },
  {
   "cell_type": "code",
   "execution_count": 250,
   "id": "0f0d8d27",
   "metadata": {},
   "outputs": [
    {
     "data": {
      "text/plain": [
       "2.5242526791482933"
      ]
     },
     "execution_count": 250,
     "metadata": {},
     "output_type": "execute_result"
    }
   ],
   "source": [
    "## FIND THE SKEWNESS VALUE FOR \"Insulin\" BY USING .skew( ) FUNCTION\n",
    "\n",
    "diabetes_data[\"Insulin\"].skew()"
   ]
  },
  {
   "cell_type": "markdown",
   "id": "ab46f556",
   "metadata": {},
   "source": [
    "        - So, the value is more than 1 (>+1)\n",
    "        - It is \"highly right skewed\""
   ]
  },
  {
   "cell_type": "code",
   "execution_count": 251,
   "id": "9cfb8354",
   "metadata": {},
   "outputs": [
    {
     "data": {
      "text/plain": [
       "0.6066504576484507"
      ]
     },
     "execution_count": 251,
     "metadata": {},
     "output_type": "execute_result"
    }
   ],
   "source": [
    "## FIND THE SKEWNESS VALUE FOR \"BMI\" BY USING .skew( ) FUNCTION\n",
    "\n",
    "diabetes_data[\"BMI\"].skew()"
   ]
  },
  {
   "cell_type": "markdown",
   "id": "d8b8436a",
   "metadata": {},
   "source": [
    "        - So, the value is between 0.5 to 1,\n",
    "        - It is \"moderately skewed\""
   ]
  },
  {
   "cell_type": "code",
   "execution_count": 252,
   "id": "823ef35e",
   "metadata": {},
   "outputs": [
    {
     "data": {
      "text/plain": [
       "1.9199110663072034"
      ]
     },
     "execution_count": 252,
     "metadata": {},
     "output_type": "execute_result"
    }
   ],
   "source": [
    "## FIND THE SKEWNESS VALUE FOR \"DiabetesPedigreeFunction\" BY USING .skew( ) FUNCTION\n",
    "\n",
    "diabetes_data[\"DiabetesPedigreeFunction\"].skew()"
   ]
  },
  {
   "cell_type": "markdown",
   "id": "7779e9c4",
   "metadata": {},
   "source": [
    "        - So, the value is more than 1 (>+1)\n",
    "        - It is \"highly right skewed\""
   ]
  },
  {
   "cell_type": "code",
   "execution_count": 253,
   "id": "a21edd6a",
   "metadata": {},
   "outputs": [
    {
     "data": {
      "text/plain": [
       "1.1295967011444807"
      ]
     },
     "execution_count": 253,
     "metadata": {},
     "output_type": "execute_result"
    }
   ],
   "source": [
    "## FIND THE SKEWNESS VALUE FOR \"Age\" BY USING .skew( ) FUNCTION\n",
    "\n",
    "diabetes_data[\"Age\"].skew()"
   ]
  },
  {
   "cell_type": "markdown",
   "id": "a900243e",
   "metadata": {},
   "source": [
    "       - So, the skewness value is more than 1 (>+1)\n",
    "       - It is \"highly right skewed\""
   ]
  },
  {
   "cell_type": "markdown",
   "id": "deda0086",
   "metadata": {},
   "source": [
    "##### SYMMETRICAL DATA :\n",
    "      * variable - \"BloodPressure\"\n",
    "##### MODERATELY SKEWED :\n",
    "      * variables - \"Pregnancies\", \"Glucose\", and \"BMI\"\n",
    "##### HIGHLY SKEWED :\n",
    "      * variables - \"SkinThickness\", \"Insulin\", \"DiabetesPedigreeFunction\", and \"Age\"\n",
    "      "
   ]
  },
  {
   "cell_type": "markdown",
   "id": "850d902d",
   "metadata": {},
   "source": [
    "# 8. Please create appropriate plot to examine the outliers of these variables. Please name the variables which have outliers."
   ]
  },
  {
   "cell_type": "markdown",
   "id": "a1ca236a",
   "metadata": {},
   "source": [
    "#### USING \"BOX PLOT\" TO EXAMINE THE OUTLIERS :"
   ]
  },
  {
   "cell_type": "code",
   "execution_count": 210,
   "id": "921d7a02",
   "metadata": {},
   "outputs": [
    {
     "data": {
      "text/plain": [
       "<AxesSubplot:title={'center':'Boxplot for Age'}, xlabel='Age'>"
      ]
     },
     "execution_count": 210,
     "metadata": {},
     "output_type": "execute_result"
    },
    {
     "data": {
      "image/png": "[encoded data removed]",
      "text/plain": [
       "<Figure size 720x720 with 4 Axes>"
      ]
     },
     "metadata": {
      "needs_background": "light"
     },
     "output_type": "display_data"
    },
    {
     "data": {
      "image/png": "[encoded data removed]",
      "text/plain": [
       "<Figure size 720x720 with 4 Axes>"
      ]
     },
     "metadata": {
      "needs_background": "light"
     },
     "output_type": "display_data"
    }
   ],
   "source": [
    "## GIVING THE FIGURE SIZE\n",
    "## USING SUBPLOT FUNCTION TO CREATE MULTIPLE PLOTS IN A SINGLE PLOT\n",
    "## AND GIVING TITLES TO EVERY VARIABLE\n",
    "\n",
    "## AND BY USING \"boxplot()\", WE CAN EASILY EXAMINE THE OUTLIERS OF THESE VARIABLES\n",
    "\n",
    "plt.figure(figsize=(10,10))\n",
    "\n",
    "plt.subplot(2,2,1)\n",
    "plt.title(\"Boxplot for Pregnancies\")\n",
    "sns.boxplot(diabetes_data.Pregnancies, color= \"red\")\n",
    "\n",
    "plt.subplot(2,2,2)\n",
    "plt.title(\"Boxplot for Glucose\")\n",
    "sns.boxplot(diabetes_data.Glucose)\n",
    "\n",
    "plt.subplot(2,2,3)\n",
    "plt.title(\"Boxplot for BloodPressure\")\n",
    "sns.boxplot(diabetes_data.BloodPressure, color= \"yellow\")\n",
    "\n",
    "plt.subplot(2,2,4)\n",
    "plt.title(\"Boxplot for SkinThickness\")\n",
    "sns.boxplot(diabetes_data.SkinThickness)\n",
    "\n",
    "plt.figure(figsize=(10,10))\n",
    "\n",
    "plt.subplot(2,2,1)\n",
    "plt.title(\"Boxplot for Insulin\")\n",
    "sns.boxplot(diabetes_data.Insulin, color= \"orange\")\n",
    "\n",
    "plt.subplot(2,2,2)\n",
    "plt.title(\"Boxplot for BMI\")\n",
    "sns.boxplot(diabetes_data.BMI, color = \"gray\")\n",
    "\n",
    "plt.subplot(2,2,3)\n",
    "plt.title(\"Boxplot for DiabetesPedigreeFunction\")\n",
    "sns.boxplot(diabetes_data.DiabetesPedigreeFunction, color= \"maroon\")\n",
    "\n",
    "plt.subplot(2,2,4)\n",
    "plt.title(\"Boxplot for Age\")\n",
    "sns.boxplot(diabetes_data.Age, color= \"purple\")"
   ]
  },
  {
   "cell_type": "markdown",
   "id": "eed83247",
   "metadata": {},
   "source": [
    "       ** Variables - Pregnancies, BloodPressure, SkinThickness, Insulin, BMI, DiabetesPedigreeFunction and Age are having      outliers\n",
    "       ** Only Glucose is not having outlier\n",
    "       ** for variable insulin there are outile , \n",
    "          - quartile1(25th %) and median are same. That's why median line is occuring on 25th percentile"
   ]
  },
  {
   "cell_type": "markdown",
   "id": "a4f340bc",
   "metadata": {},
   "source": [
    " ## 9. What should be the measures of central tendency and dispersion for skewed data?  "
   ]
  },
  {
   "cell_type": "markdown",
   "id": "390b433a",
   "metadata": {},
   "source": [
    "######  Measure of central tendancy for skewed data is median\n",
    "       - The median is the most informative measure of central tendancy for skewed data."
   ]
  },
  {
   "cell_type": "code",
   "execution_count": 293,
   "id": "4aa543b3",
   "metadata": {},
   "outputs": [
    {
     "name": "stdout",
     "output_type": "stream",
     "text": [
      "median for variable - pregnancies              :  3.0\n",
      "median for variable - Glucose                  :  117.0\n",
      "median for variable - SkinThickness            :  27.0\n",
      "median for variable - Insulin                  :  39.0\n",
      "median for variable - BMI                      :  32.05\n",
      "median for variable - DiabetesPedigreeFunction :  0.3725\n",
      "median for variable - Age                      :  29.0\n"
     ]
    }
   ],
   "source": [
    "## measures of central tendency for skewed data is median only\n",
    "## printing the median values of skewed data using median( ) function\n",
    "## printing the all values\n",
    "\n",
    "print(\"median for variable - pregnancies              : \", diabetes_data[\"Pregnancies\"].median())\n",
    "print(\"median for variable - Glucose                  : \", diabetes_data[\"Glucose\"].median())\n",
    "print(\"median for variable - SkinThickness            : \", diabetes_data['SkinThickness'].median())\n",
    "print(\"median for variable - Insulin                  : \", diabetes_data['Insulin'].median())\n",
    "print(\"median for variable - BMI                      : \", diabetes_data[\"BMI\"].median())\n",
    "print(\"median for variable - DiabetesPedigreeFunction : \", diabetes_data['DiabetesPedigreeFunction'].median())\n",
    "print(\"median for variable - Age                      : \", diabetes_data['Age'].median())      "
   ]
  },
  {
   "cell_type": "markdown",
   "id": "4ee667c6",
   "metadata": {},
   "source": [
    "###### Measure of dispersion for skewed data is STADARD DEVIATION (SD) :"
   ]
  },
  {
   "cell_type": "code",
   "execution_count": 298,
   "id": "c71d2419",
   "metadata": {},
   "outputs": [
    {
     "name": "stdout",
     "output_type": "stream",
     "text": [
      "SD for variable - pregnancies              :  3.369578062698866\n",
      "SD for variable - Glucose                  :  30.464160589122212\n",
      "SD for variable - SkinThickness            :  9.321460459341553\n",
      "SD for variable - Insulin                  :  108.12113612959918\n",
      "SD for variable - BMI                      :  6.8806640911371995\n",
      "SD for variable - DiabetesPedigreeFunction :  0.3313285950127748\n",
      "SD for variable - Age                      :  11.760231540678665\n"
     ]
    }
   ],
   "source": [
    "## measures of dispersion for skewed data is SD only\n",
    "## printing the SD values of skewed data using std( ) function\n",
    "## printing the all values\n",
    "\n",
    "print(\"SD for variable - pregnancies              : \", diabetes_data[\"Pregnancies\"].std())\n",
    "print(\"SD for variable - Glucose                  : \", diabetes_data[\"Glucose\"].std())\n",
    "print(\"SD for variable - SkinThickness            : \", diabetes_data['SkinThickness'].std())\n",
    "print(\"SD for variable - Insulin                  : \", diabetes_data['Insulin'].std())\n",
    "print(\"SD for variable - BMI                      : \", diabetes_data[\"BMI\"].std())\n",
    "print(\"SD for variable - DiabetesPedigreeFunction : \", diabetes_data['DiabetesPedigreeFunction'].std())\n",
    "print(\"SD for variable - Age                      : \", diabetes_data['Age'].std())  "
   ]
  },
  {
   "cell_type": "markdown",
   "id": "d2b8e2ba",
   "metadata": {},
   "source": [
    "## 10. Please push the assignment into your github account and provide the link of github account."
   ]
  },
  {
   "cell_type": "code",
   "execution_count": null,
   "id": "4e021363",
   "metadata": {},
   "outputs": [],
   "source": [
    "https://github.com/KiranKumar8186"
   ]
  }
 ],
 "metadata": {
  "kernelspec": {
   "display_name": "Python 3 (ipykernel)",
   "language": "python",
   "name": "python3"
  },
  "language_info": {
   "codemirror_mode": {
    "name": "ipython",
    "version": 3
   },
   "file_extension": ".py",
   "mimetype": "text/x-python",
   "name": "python",
   "nbconvert_exporter": "python",
   "pygments_lexer": "ipython3",
   "version": "3.9.7"
  }
 },
 "nbformat": 4,
 "nbformat_minor": 5
}
